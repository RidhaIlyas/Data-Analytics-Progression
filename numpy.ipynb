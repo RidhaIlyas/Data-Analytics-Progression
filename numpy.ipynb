{
 "cells": [
  {
   "cell_type": "code",
   "execution_count": 2,
   "id": "34655869-cc1d-48c4-abd1-a97b6dcd7ad1",
   "metadata": {},
   "outputs": [
    {
     "name": "stdout",
     "output_type": "stream",
     "text": [
      "Requirement already satisfied: numpy in c:\\users\\acer\\anaconda3\\lib\\site-packages (1.26.4)\n",
      "Note: you may need to restart the kernel to use updated packages.\n"
     ]
    }
   ],
   "source": [
    "pip install numpy"
   ]
  },
  {
   "cell_type": "code",
   "execution_count": 3,
   "id": "7f5b9264-df0f-4946-afee-399da1ee7c9d",
   "metadata": {},
   "outputs": [],
   "source": [
    "\n",
    "import numpy as np"
   ]
  },
  {
   "cell_type": "code",
   "execution_count": 8,
   "id": "387b2cbf-3a32-47a8-b7be-1d0b1dd66b3c",
   "metadata": {},
   "outputs": [
    {
     "name": "stdout",
     "output_type": "stream",
     "text": [
      "[1 2 3 4 5]\n"
     ]
    }
   ],
   "source": [
    "a=np.array ([1,2,3,4,5]) #one dimensional array- each elements alone in an array is called zero dimension\n",
    "print (a)\n",
    "#one dimensional is a collection of zero dimensional arrays"
   ]
  },
  {
   "cell_type": "code",
   "execution_count": 10,
   "id": "5245f772-9090-420c-94b1-5b8bb4aa2be1",
   "metadata": {},
   "outputs": [
    {
     "name": "stdout",
     "output_type": "stream",
     "text": [
      "[1 2 3 4]\n"
     ]
    }
   ],
   "source": [
    "#zero dimensional example- no list- only an element\n",
    "c=np.array(43)\n",
    "c\n"
   ]
  },
  {
   "cell_type": "code",
   "execution_count": 11,
   "id": "28880f31-6f56-439f-8634-d4193bee4f46",
   "metadata": {},
   "outputs": [
    {
     "name": "stdout",
     "output_type": "stream",
     "text": [
      "[1 2 3 4]\n"
     ]
    }
   ],
   "source": [
    "a=np.array ((1,2,3,4))\n",
    "print(a)"
   ]
  },
  {
   "cell_type": "code",
   "execution_count": 13,
   "id": "a6b697cb-1a1d-4791-ad65-03a5502093f4",
   "metadata": {},
   "outputs": [
    {
     "name": "stdout",
     "output_type": "stream",
     "text": [
      "<class 'list'>\n"
     ]
    }
   ],
   "source": [
    "to get the data type\n",
    "d=[6,7,8,9]\n",
    "print (type(d))"
   ]
  },
  {
   "cell_type": "code",
   "execution_count": 19,
   "id": "a1d53153-8ec3-4b33-8194-c47671619c2e",
   "metadata": {},
   "outputs": [
    {
     "name": "stdout",
     "output_type": "stream",
     "text": [
      "[[1 2 3]\n",
      " [2 3 4]\n",
      " [4 5 3]]\n"
     ]
    }
   ],
   "source": [
    "#two dimensional example\n",
    "a=np.array ([[1,2,3],[2,3,4],[4,5,3]])\n",
    "print(a)"
   ]
  },
  {
   "cell_type": "code",
   "execution_count": 21,
   "id": "65ee3818-5df5-4ae2-b9d2-0a8aba88c65d",
   "metadata": {},
   "outputs": [
    {
     "name": "stdout",
     "output_type": "stream",
     "text": [
      "[[ 1  2  3  4]\n",
      " [ 5  6  7  8]\n",
      " [ 9 10 11 12]]\n"
     ]
    }
   ],
   "source": [
    "a=np.array ([[1,2,3,4],[5,6,7,8],[9,10,11,12]])\n",
    "print (a)"
   ]
  },
  {
   "cell_type": "code",
   "execution_count": 23,
   "id": "e29b24d4-8de1-4238-b4ef-4f459c983264",
   "metadata": {},
   "outputs": [
    {
     "name": "stdout",
     "output_type": "stream",
     "text": [
      "[[ 1  2  3  4]\n",
      " [ 5  6  7  8]\n",
      " [ 9 10 11 12]]\n"
     ]
    }
   ],
   "source": [
    "a=np.array (((1,2,3,4),(5,6,7,8),(9,10,11,12)))\n",
    "print(a)"
   ]
  },
  {
   "cell_type": "code",
   "execution_count": 33,
   "id": "815835d7-d5ee-4349-9759-45c3ae3dc125",
   "metadata": {},
   "outputs": [
    {
     "name": "stdout",
     "output_type": "stream",
     "text": [
      "[[[1 2 3 4]\n",
      "  [3 4 5 6]\n",
      "  [3 6 7 8]]\n",
      "\n",
      " [[1 2 3 6]\n",
      "  [3 6 4 5]\n",
      "  [9 6 4 3]]]\n"
     ]
    }
   ],
   "source": [
    "#3 dimension example\n",
    "a=np.array([[[1,2,3,4],[3,4,5,6],[3,6,7,8]],[[1,2,3,6],[3,6,4,5],[9,6,4,3]]])\n",
    "print (a)"
   ]
  },
  {
   "cell_type": "code",
   "execution_count": 30,
   "id": "3747e545-494e-42c2-90ff-d1621b418227",
   "metadata": {},
   "outputs": [
    {
     "name": "stdout",
     "output_type": "stream",
     "text": [
      "[[[5 4 6]\n",
      "  [9 7 6]\n",
      "  [8 4 3]]\n",
      "\n",
      " [[9 8 2]\n",
      "  [9 5 3]\n",
      "  [9 5 3]]\n",
      "\n",
      " [[6 5 4]\n",
      "  [9 6 5]\n",
      "  [2 5 6]]]\n"
     ]
    }
   ],
   "source": [
    "a=np.array([[[5,4,6],[9,7,6],[8,4,3]],[[9,8,2,],[9,5,3],[9,5,3]],[[6,5,4],[9,6,5],[2,5,6]]])\n",
    "print (a)"
   ]
  },
  {
   "cell_type": "code",
   "execution_count": 32,
   "id": "bdd40895-4e6f-4b1e-9fbb-b2bea221114d",
   "metadata": {},
   "outputs": [
    {
     "name": "stdout",
     "output_type": "stream",
     "text": [
      "[[[2 3 4]\n",
      "  [0 6 7]]\n",
      "\n",
      " [[3 2 5]\n",
      "  [9 2 3]]\n",
      "\n",
      " [[8 5 7]\n",
      "  [9 2 3]]]\n"
     ]
    }
   ],
   "source": [
    "a=np.array((((2,3,4),(0,6,7)),((3,2,5),(9,2,3)), ((8,5,7),(9,2,3))))\n",
    "print (a)"
   ]
  },
  {
   "cell_type": "code",
   "execution_count": 34,
   "id": "8c14a359-863d-48af-97f4-f7d5162cbaa3",
   "metadata": {},
   "outputs": [
    {
     "data": {
      "text/plain": [
       "3"
      ]
     },
     "execution_count": 34,
     "metadata": {},
     "output_type": "execute_result"
    }
   ],
   "source": [
    "#Ndim- an attribute which gives output as what the dimension is\n",
    "a.ndim"
   ]
  },
  {
   "cell_type": "code",
   "execution_count": 40,
   "id": "dae17e9e-7f2e-4456-9d08-88cbda60d02c",
   "metadata": {},
   "outputs": [
    {
     "data": {
      "text/plain": [
       "array([[[[[1, 2, 3, 4]]]]])"
      ]
     },
     "execution_count": 40,
     "metadata": {},
     "output_type": "execute_result"
    }
   ],
   "source": [
    "#ndmin= an attribute to custom the dimension\n",
    "np.array([1,2,3,4],ndmin=5)"
   ]
  },
  {
   "cell_type": "code",
   "execution_count": 41,
   "id": "f436fb97-ba0f-4e8f-9be1-5e1b3caf1039",
   "metadata": {},
   "outputs": [
    {
     "data": {
      "text/plain": [
       "array([[1, 2, 3, 4]])"
      ]
     },
     "execution_count": 41,
     "metadata": {},
     "output_type": "execute_result"
    }
   ],
   "source": [
    "np.array ([1,2,3,4],ndmin=2)"
   ]
  },
  {
   "cell_type": "code",
   "execution_count": 3,
   "id": "606063b0-e581-4f8c-a33b-99c6c218a3d8",
   "metadata": {},
   "outputs": [
    {
     "name": "stdout",
     "output_type": "stream",
     "text": [
      "[[1 2]\n",
      " [2 3]\n",
      " [3 4]\n",
      " [4 5]\n",
      " [5 6]\n",
      " [6 7]]\n"
     ]
    }
   ],
   "source": [
    "#2 dimensional\n",
    "import numpy as np\n",
    "a=np.array([[1,2],[2,3],[3,4],[4,5],[5,6],[6,7]])\n",
    "print (a)"
   ]
  },
  {
   "cell_type": "code",
   "execution_count": 5,
   "id": "3cccbf00-9516-4ebf-8831-ae174dce7615",
   "metadata": {},
   "outputs": [
    {
     "data": {
      "text/plain": [
       "2"
      ]
     },
     "execution_count": 5,
     "metadata": {},
     "output_type": "execute_result"
    }
   ],
   "source": [
    "a.ndim"
   ]
  },
  {
   "cell_type": "code",
   "execution_count": 7,
   "id": "4368dcce-a4c7-4082-bd26-37ad2809301d",
   "metadata": {},
   "outputs": [
    {
     "name": "stdout",
     "output_type": "stream",
     "text": [
      "[[[1 2]\n",
      "  [2 3]]\n",
      "\n",
      " [[3 4]\n",
      "  [4 5]]\n",
      "\n",
      " [[5 6]\n",
      "  [6 7]]]\n"
     ]
    }
   ],
   "source": [
    "a=np.array([[[1,2],[2,3]],[[3,4],[4,5]],[[5,6],[6,7]]])\n",
    "print (a)"
   ]
  },
  {
   "cell_type": "code",
   "execution_count": 9,
   "id": "e12d9139-4aaa-4852-8baf-46a51b36ff75",
   "metadata": {},
   "outputs": [
    {
     "data": {
      "text/plain": [
       "3"
      ]
     },
     "execution_count": 9,
     "metadata": {},
     "output_type": "execute_result"
    }
   ],
   "source": [
    "a.ndim"
   ]
  },
  {
   "cell_type": "code",
   "execution_count": 15,
   "id": "18756ed4-55cb-41a8-a304-c192802e0163",
   "metadata": {},
   "outputs": [
    {
     "name": "stdout",
     "output_type": "stream",
     "text": [
      "[2 3 4 5 5 6]\n"
     ]
    }
   ],
   "source": [
    "a=np.array([2,3,4,5,5,6])\n",
    "print(a)"
   ]
  },
  {
   "cell_type": "code",
   "execution_count": 17,
   "id": "b3ba2387-bdab-4753-9164-b6cf1c69e9f9",
   "metadata": {},
   "outputs": [
    {
     "data": {
      "text/plain": [
       "3"
      ]
     },
     "execution_count": 17,
     "metadata": {},
     "output_type": "execute_result"
    }
   ],
   "source": [
    "#to access an element in one dimension\n",
    "arr=np.array([1,2,3,4,5])\n",
    "arr[2]"
   ]
  },
  {
   "cell_type": "code",
   "execution_count": 19,
   "id": "60448b57-f638-4d8a-b18c-c017d9de5af4",
   "metadata": {},
   "outputs": [
    {
     "data": {
      "text/plain": [
       "3"
      ]
     },
     "execution_count": 19,
     "metadata": {},
     "output_type": "execute_result"
    }
   ],
   "source": [
    "#access element in two dimension\n",
    "arr2=np.array([[1,2,3,4],[4,5,6,7]])\n",
    "arr2[0,2] #(index of first row, index of second row)"
   ]
  },
  {
   "cell_type": "code",
   "execution_count": 25,
   "id": "8ad31106-affa-4b88-86e2-6c497085b37c",
   "metadata": {},
   "outputs": [
    {
     "data": {
      "text/plain": [
       "8"
      ]
     },
     "execution_count": 25,
     "metadata": {},
     "output_type": "execute_result"
    }
   ],
   "source": [
    "#2/5 matrix, find 3rd element in \n",
    "a=np.array ([[1,2,3,4,5],[6,7,8,9,10]])\n",
    "a[1,2]"
   ]
  },
  {
   "cell_type": "code",
   "execution_count": 27,
   "id": "7275dbaf-f128-4a02-9a64-e22ce35c9f9c",
   "metadata": {},
   "outputs": [
    {
     "data": {
      "text/plain": [
       "8"
      ]
     },
     "execution_count": 27,
     "metadata": {},
     "output_type": "execute_result"
    }
   ],
   "source": [
    "arr3=np.array([[[1,2,3],[4,5,6]],[[7,8,9],[10,11,12]]])\n",
    "arr3[1,0,1]"
   ]
  },
  {
   "cell_type": "code",
   "execution_count": 31,
   "id": "7cb9cbce-7791-4e92-b760-bc569d774a0b",
   "metadata": {},
   "outputs": [
    {
     "data": {
      "text/plain": [
       "5"
      ]
     },
     "execution_count": 31,
     "metadata": {},
     "output_type": "execute_result"
    }
   ],
   "source": [
    "arr4=np.array([[[3,2,],[5,4]],[[4,6,],[7,6]]])\n",
    "arr4[0,1,0]"
   ]
  },
  {
   "cell_type": "code",
   "execution_count": 33,
   "id": "375ba618-38a9-4100-81f0-0e49f8b31ea0",
   "metadata": {},
   "outputs": [
    {
     "data": {
      "text/plain": [
       "6"
      ]
     },
     "execution_count": 33,
     "metadata": {},
     "output_type": "execute_result"
    }
   ],
   "source": [
    "arr3=np.array([[[1,2,3],[4,5,6]],[[7,8,9],[10,11,12]]])\n",
    "arr3[0,1,2]"
   ]
  },
  {
   "cell_type": "code",
   "execution_count": 37,
   "id": "d1af5be7-f3e1-44ca-82cc-041ac1de46cd",
   "metadata": {},
   "outputs": [
    {
     "data": {
      "text/plain": [
       "9"
      ]
     },
     "execution_count": 37,
     "metadata": {},
     "output_type": "execute_result"
    }
   ],
   "source": [
    "arr3=np.array([[[1,2,3],[4,5,6]],[[7,8,9],[10,11,12]]])\n",
    "arr3[1,0,2]"
   ]
  },
  {
   "cell_type": "code",
   "execution_count": 41,
   "id": "63189f68-ae0e-4182-b412-18da1573c86e",
   "metadata": {},
   "outputs": [
    {
     "name": "stdout",
     "output_type": "stream",
     "text": [
      "8\n"
     ]
    }
   ],
   "source": [
    "a=np.array([1,2,3,4])\n",
    "b=np.array([4,5,6,7])\n",
    "c=a[1]+b[2]\n",
    "print(c)"
   ]
  },
  {
   "cell_type": "code",
   "execution_count": 49,
   "id": "1cf55a83-d303-49c6-ab8e-9cb01b046957",
   "metadata": {},
   "outputs": [
    {
     "data": {
      "text/plain": [
       "11"
      ]
     },
     "execution_count": 49,
     "metadata": {},
     "output_type": "execute_result"
    }
   ],
   "source": [
    "a=np.array([[1,2],[3,4],[3,2],[9,8]])\n",
    "a[1,0]+a[3,1]"
   ]
  },
  {
   "cell_type": "code",
   "execution_count": 51,
   "id": "ade14052-bd6c-4bf2-8467-7f8b174481c4",
   "metadata": {},
   "outputs": [
    {
     "data": {
      "text/plain": [
       "5"
      ]
     },
     "execution_count": 51,
     "metadata": {},
     "output_type": "execute_result"
    }
   ],
   "source": [
    "#to get last element in a one dimensional\n",
    "arr=np.array([1,2,3,4,5])\n",
    "arr[-1]\n"
   ]
  },
  {
   "cell_type": "code",
   "execution_count": 55,
   "id": "fe2419a3-4dfb-421e-84f9-1550dab56fc9",
   "metadata": {},
   "outputs": [
    {
     "data": {
      "text/plain": [
       "8"
      ]
     },
     "execution_count": 55,
     "metadata": {},
     "output_type": "execute_result"
    }
   ],
   "source": [
    "a=np.array([[1,2],[3,4],[3,2],[9,8]])\n",
    "a[3,-1]"
   ]
  },
  {
   "cell_type": "code",
   "execution_count": 57,
   "id": "da14d2e2-4db9-41b0-8dc0-8172d5d4941e",
   "metadata": {},
   "outputs": [
    {
     "data": {
      "text/plain": [
       "6"
      ]
     },
     "execution_count": 57,
     "metadata": {},
     "output_type": "execute_result"
    }
   ],
   "source": [
    "arr3=np.array([[[1,2,3],[4,5,6]],[[7,8,9],[10,11,12]]])\n",
    "arr3[0,1,-1]"
   ]
  },
  {
   "cell_type": "code",
   "execution_count": 61,
   "id": "c6e7b11f-b3f9-4d69-9da2-a9855480ccb9",
   "metadata": {},
   "outputs": [
    {
     "data": {
      "text/plain": [
       "array([3, 4, 5])"
      ]
     },
     "execution_count": 61,
     "metadata": {},
     "output_type": "execute_result"
    }
   ],
   "source": [
    "#slicing 1D\n",
    "arr=np.array([1,2,3,4,5])\n",
    "arr[2:5]"
   ]
  },
  {
   "cell_type": "code",
   "execution_count": 69,
   "id": "41d41c65-1c02-4f38-8ce1-c2facb4a865e",
   "metadata": {},
   "outputs": [
    {
     "data": {
      "text/plain": [
       "array([2, 4, 6])"
      ]
     },
     "execution_count": 69,
     "metadata": {},
     "output_type": "execute_result"
    }
   ],
   "source": [
    "arr=np.array([1,2,3,4,5,6])\n",
    "arr[1:6:2]"
   ]
  },
  {
   "cell_type": "code",
   "execution_count": 71,
   "id": "791f042b-52f0-4562-9ac6-70992e965fa6",
   "metadata": {},
   "outputs": [
    {
     "data": {
      "text/plain": [
       "array([1])"
      ]
     },
     "execution_count": 71,
     "metadata": {},
     "output_type": "execute_result"
    }
   ],
   "source": [
    "#two dimensional slicing\n",
    "a=np.array([[1,2],[3,4],[3,2],[9,8]])\n",
    "a[0,:1]"
   ]
  },
  {
   "cell_type": "code",
   "execution_count": 83,
   "id": "e66d86d7-e216-4431-9292-297c5dfc43d7",
   "metadata": {},
   "outputs": [
    {
     "data": {
      "text/plain": [
       "array([5, 3])"
      ]
     },
     "execution_count": 83,
     "metadata": {},
     "output_type": "execute_result"
    }
   ],
   "source": [
    "\n",
    "a=np.array([[1,2,3,4],[4,5,6,7],[6,7,5,4],[7,5,3,1]])\n",
    "a[3,1:3]"
   ]
  },
  {
   "cell_type": "code",
   "execution_count": 91,
   "id": "29720d3a-aee3-4bae-b2b1-6069cac77c47",
   "metadata": {},
   "outputs": [
    {
     "data": {
      "text/plain": [
       "array([[2, 3, 4],\n",
       "       [5, 6, 7],\n",
       "       [7, 8, 9]])"
      ]
     },
     "execution_count": 91,
     "metadata": {},
     "output_type": "execute_result"
    }
   ],
   "source": [
    "array2=np.array([[1,2,3,4],[4,5,6,7],[5,7,8,9]])\n",
    "array2[:,1:]"
   ]
  },
  {
   "cell_type": "code",
   "execution_count": 95,
   "id": "f9ab91ff-9e11-4b8b-a89f-1b9d4be0d0cd",
   "metadata": {},
   "outputs": [
    {
     "data": {
      "text/plain": [
       "array([[7, 5]])"
      ]
     },
     "execution_count": 95,
     "metadata": {},
     "output_type": "execute_result"
    }
   ],
   "source": [
    "a=np.array([[1,2,3,4],[4,5,6,7],[6,7,5,4],[7,5,3,1]])\n",
    "a[3:,0:2]"
   ]
  },
  {
   "cell_type": "code",
   "execution_count": 111,
   "id": "2feabfcc-bd55-4499-89e8-f24a73d1d512",
   "metadata": {},
   "outputs": [
    {
     "data": {
      "text/plain": [
       "array([[2, 4],\n",
       "       [5, 7],\n",
       "       [7, 9]])"
      ]
     },
     "execution_count": 111,
     "metadata": {},
     "output_type": "execute_result"
    }
   ],
   "source": [
    "array2=np.array([[1,2,3,4],[4,5,6,7],[5,7,8,9]])\n",
    "array2[:,1: :2]"
   ]
  },
  {
   "cell_type": "code",
   "execution_count": 125,
   "id": "afbb429d-13cc-4503-a436-4a8f67bc88dd",
   "metadata": {},
   "outputs": [
    {
     "data": {
      "text/plain": [
       "array([1, 3, 5])"
      ]
     },
     "execution_count": 125,
     "metadata": {},
     "output_type": "execute_result"
    }
   ],
   "source": [
    "array2=np.array([[1,2,3,4,5],[6,7,5,7,8]])\n",
    "array2[0,0::2]"
   ]
  },
  {
   "cell_type": "code",
   "execution_count": 129,
   "id": "78d7e8e9-8128-4f15-9a16-a034299c4de8",
   "metadata": {},
   "outputs": [
    {
     "data": {
      "text/plain": [
       "(3, 4)"
      ]
     },
     "execution_count": 129,
     "metadata": {},
     "output_type": "execute_result"
    }
   ],
   "source": [
    "#shape- to get the rows and columns in a dimension\n",
    "array2=np.array([[1,2,3,4],[4,5,6,7],[5,7,8,9]])\n",
    "array2.shape"
   ]
  },
  {
   "cell_type": "code",
   "execution_count": 137,
   "id": "97128c1c-3523-46ad-a6be-f2359347591a",
   "metadata": {},
   "outputs": [
    {
     "data": {
      "text/plain": [
       "(2, 2, 2)"
      ]
     },
     "execution_count": 137,
     "metadata": {},
     "output_type": "execute_result"
    }
   ],
   "source": [
    "array3=np.array([[[1,2],[3,4]],[[3,2],[5,6]]])\n",
    "array3.shape"
   ]
  },
  {
   "cell_type": "code",
   "execution_count": 141,
   "id": "19cc3c2f-ccf2-4b9e-b5d9-3627fe81ffb7",
   "metadata": {},
   "outputs": [
    {
     "data": {
      "text/plain": [
       "(3, 2, 2)"
      ]
     },
     "execution_count": 141,
     "metadata": {},
     "output_type": "execute_result"
    }
   ],
   "source": [
    "array3=np.array([[[1,2],[3,4]],[[3,2],[5,6]],[[3,4,],[8,6]]])\n",
    "array3.shape \n",
    "#output shown: (dimensions inside,rows in each dimension, columns)"
   ]
  },
  {
   "cell_type": "code",
   "execution_count": 143,
   "id": "7daa958d-2a4e-4c93-8b72-81ef1413aa75",
   "metadata": {},
   "outputs": [
    {
     "data": {
      "text/plain": [
       "(4, 2, 5)"
      ]
     },
     "execution_count": 143,
     "metadata": {},
     "output_type": "execute_result"
    }
   ],
   "source": [
    "array3=np.array ([[[1,2,3,4,5],[2,3,4,5,6]],[[4,5,6,7,8],[7,8,9,6,5]],[[3,4,5,6,7],[6,5,4,3,2]],[[5,4,3,2,1],[7,6,5,4,6]]])\n",
    "array3.shape"
   ]
  },
  {
   "cell_type": "code",
   "execution_count": 1,
   "id": "8694c1c5-cfd9-4ecb-8e48-befa81297315",
   "metadata": {},
   "outputs": [
    {
     "data": {
      "text/plain": [
       "dtype('<U9')"
      ]
     },
     "execution_count": 1,
     "metadata": {},
     "output_type": "execute_result"
    }
   ],
   "source": [
    "import numpy as np\n",
    "fruits=np.array(['banana','mango','pineapple','apple'])\n",
    "fruits.dtype"
   ]
  },
  {
   "cell_type": "code",
   "execution_count": 3,
   "id": "b878394e-9483-4efc-b889-94127b6a26cf",
   "metadata": {},
   "outputs": [],
   "source": [
    "#U-unicode string with maximum of 9 char\n"
   ]
  },
  {
   "cell_type": "code",
   "execution_count": 5,
   "id": "1ab4b3aa-8d7d-4c48-a05d-403627b97dc2",
   "metadata": {},
   "outputs": [
    {
     "data": {
      "text/plain": [
       "array([1., 2., 3., 4.], dtype=float32)"
      ]
     },
     "execution_count": 5,
     "metadata": {},
     "output_type": "execute_result"
    }
   ],
   "source": [
    "#to declare datatype initially\n",
    "arr=np.array([1,2,3,4], dtype='f')\n",
    "arr"
   ]
  },
  {
   "cell_type": "code",
   "execution_count": 7,
   "id": "abb48d34-6a2e-4fab-a2bc-816422d7a815",
   "metadata": {},
   "outputs": [
    {
     "data": {
      "text/plain": [
       "array([1., 2., 3., 4.], dtype=float32)"
      ]
     },
     "execution_count": 7,
     "metadata": {},
     "output_type": "execute_result"
    }
   ],
   "source": [
    "#to convert the datatype\n",
    "arr=np.array([1,2,3,4])\n",
    "arr.astype('f')"
   ]
  },
  {
   "cell_type": "code",
   "execution_count": 9,
   "id": "654d65e8-2f91-4622-9679-65b4b2f107fc",
   "metadata": {},
   "outputs": [
    {
     "ename": "ValueError",
     "evalue": "invalid literal for int() with base 10: 'hello'",
     "output_type": "error",
     "traceback": [
      "\u001b[1;31m---------------------------------------------------------------------------\u001b[0m",
      "\u001b[1;31mValueError\u001b[0m                                Traceback (most recent call last)",
      "Cell \u001b[1;32mIn[9], line 2\u001b[0m\n\u001b[0;32m      1\u001b[0m arr\u001b[38;5;241m=\u001b[39mnp\u001b[38;5;241m.\u001b[39marray([\u001b[38;5;124m'\u001b[39m\u001b[38;5;124mhello\u001b[39m\u001b[38;5;124m'\u001b[39m,\u001b[38;5;124m'\u001b[39m\u001b[38;5;124mhi\u001b[39m\u001b[38;5;124m'\u001b[39m])\n\u001b[1;32m----> 2\u001b[0m arr\u001b[38;5;241m.\u001b[39mastype(\u001b[38;5;124m'\u001b[39m\u001b[38;5;124mi\u001b[39m\u001b[38;5;124m'\u001b[39m)\n",
      "\u001b[1;31mValueError\u001b[0m: invalid literal for int() with base 10: 'hello'"
     ]
    }
   ],
   "source": [
    "arr=np.array(['hello','hi'])\n",
    "arr.astype('i')"
   ]
  },
  {
   "cell_type": "code",
   "execution_count": 11,
   "id": "12e20d17-39c9-4452-919e-b364420463b8",
   "metadata": {},
   "outputs": [
    {
     "name": "stdout",
     "output_type": "stream",
     "text": [
      "['ridha' 'ajeeba' 'naseef']\n",
      "['ridha' 'ajeeba' 'naseef']\n"
     ]
    }
   ],
   "source": [
    "#view and copy\n",
    "a=np.array(['ridha','ajeeba','naseef'])\n",
    "b=a.copy()\n",
    "print (a)\n",
    "print(b)"
   ]
  },
  {
   "cell_type": "code",
   "execution_count": 13,
   "id": "a89c1b35-6cdc-4cb3-a236-312897b4eebc",
   "metadata": {},
   "outputs": [
    {
     "name": "stdout",
     "output_type": "stream",
     "text": [
      "['ridha' 'ajeeba' 'naseef']\n",
      "['ridha' 'ajeeba' 'naseef']\n",
      "['ilyas' 'ajeeba' 'naseef']\n",
      "['ridha' 'ajeeba' 'naseef']\n"
     ]
    }
   ],
   "source": [
    "a=np.array(['ridha','ajeeba','naseef'])\n",
    "b=a.copy()\n",
    "print (a)\n",
    "print(b)\n",
    "a[0]='ilyas'\n",
    "print (a)\n",
    "print(b)"
   ]
  },
  {
   "cell_type": "code",
   "execution_count": 17,
   "id": "60f3a43e-535c-4d89-8926-b448bcd57951",
   "metadata": {},
   "outputs": [
    {
     "name": "stdout",
     "output_type": "stream",
     "text": [
      "['ridha' 'ajeeba' 'naseef']\n",
      "['ridha' 'ajeeba' 'naseef']\n",
      "['ridha' 'ajeeba' 'naseef']\n",
      "['ilyas' 'ajeeba' 'naseef']\n",
      "['ridha' 'ajeeba' 'naseef']\n",
      "['ilyas' 'ajeeba' 'naseef']\n"
     ]
    }
   ],
   "source": [
    "a=np.array(['ridha','ajeeba','naseef'])\n",
    "b=a.copy()\n",
    "c=a.view()\n",
    "\n",
    "print (a)\n",
    "print(b)\n",
    "print (c)\n",
    "\n",
    "a[0]='ilyas'\n",
    "print (a)\n",
    "print(b)\n",
    "print (c)"
   ]
  },
  {
   "cell_type": "code",
   "execution_count": 19,
   "id": "c121de12-a038-4dad-8402-b0d31015143b",
   "metadata": {},
   "outputs": [
    {
     "name": "stdout",
     "output_type": "stream",
     "text": [
      "[1 6 3 4 5 6]\n",
      "[1 2 3 4 5 6]\n",
      "[1 6 3 4 5 6]\n"
     ]
    }
   ],
   "source": [
    "a=np.array([1,2,3,4,5,6])\n",
    "b=a.copy()\n",
    "c=a.view()\n",
    "\n",
    "a[1]=6\n",
    "print (a)\n",
    "print(b)\n",
    "print(c)\n",
    "\n"
   ]
  },
  {
   "cell_type": "code",
   "execution_count": 23,
   "id": "187d16d1-ae5e-4b7c-99b2-be3c7a8f9446",
   "metadata": {},
   "outputs": [
    {
     "name": "stdout",
     "output_type": "stream",
     "text": [
      "[1 6 3 4 5 6]\n",
      "None\n"
     ]
    }
   ],
   "source": [
    "print (c.base) #gives the data as it is- the view function\n",
    "print (b.base) #gives none for copy"
   ]
  },
  {
   "cell_type": "code",
   "execution_count": 34,
   "id": "e0656b57-69e5-4fb2-9db7-5ec52b24c305",
   "metadata": {},
   "outputs": [
    {
     "name": "stdout",
     "output_type": "stream",
     "text": [
      "[[[[[1 2 3 4 5]]]]]\n"
     ]
    },
    {
     "data": {
      "text/plain": [
       "(1, 1, 1, 1, 5)"
      ]
     },
     "execution_count": 34,
     "metadata": {},
     "output_type": "execute_result"
    }
   ],
   "source": [
    "a=np.array([1,2,3,4,5], ndmin=5)\n",
    "print (a)\n",
    "a.shape\n"
   ]
  },
  {
   "cell_type": "code",
   "execution_count": 38,
   "id": "754a5935-ca44-431f-a054-3aaf93aca514",
   "metadata": {},
   "outputs": [
    {
     "data": {
      "text/plain": [
       "(2, 2)"
      ]
     },
     "execution_count": 38,
     "metadata": {},
     "output_type": "execute_result"
    }
   ],
   "source": [
    "a=np.array([[1,2],[3,4]])\n",
    "a.shape"
   ]
  },
  {
   "cell_type": "code",
   "execution_count": 40,
   "id": "878ed1be-9780-4314-bda1-e9bed561be21",
   "metadata": {},
   "outputs": [
    {
     "data": {
      "text/plain": [
       "array([[ 1,  2,  3],\n",
       "       [ 4,  5,  6],\n",
       "       [ 7,  8,  9],\n",
       "       [10, 11, 12]])"
      ]
     },
     "execution_count": 40,
     "metadata": {},
     "output_type": "execute_result"
    }
   ],
   "source": [
    "arr= np.array([1,2,3,4,5,6,7,8,9,10,11,12])\n",
    "arr.reshape(4,3)"
   ]
  },
  {
   "cell_type": "code",
   "execution_count": 48,
   "id": "735932f9-6d83-47f3-bf64-8df5ec7b165a",
   "metadata": {},
   "outputs": [
    {
     "data": {
      "text/plain": [
       "array([[ 1,  2],\n",
       "       [ 3,  4],\n",
       "       [ 5,  6],\n",
       "       [ 7,  8],\n",
       "       [ 9, 10],\n",
       "       [11, 12]])"
      ]
     },
     "execution_count": 48,
     "metadata": {},
     "output_type": "execute_result"
    }
   ],
   "source": [
    "arr= np.array([1,2,3,4,5,6,7,8,9,10,11,12])\n",
    "arr.reshape(6,2)"
   ]
  },
  {
   "cell_type": "code",
   "execution_count": 66,
   "id": "c3e66d44-ed14-483a-95a0-02c3d66a74fd",
   "metadata": {},
   "outputs": [
    {
     "data": {
      "text/plain": [
       "array([[[ 1,  2],\n",
       "        [ 3,  4],\n",
       "        [ 5,  6]],\n",
       "\n",
       "       [[ 7,  8],\n",
       "        [ 9, 10],\n",
       "        [11, 12]]])"
      ]
     },
     "execution_count": 66,
     "metadata": {},
     "output_type": "execute_result"
    }
   ],
   "source": [
    "arr=np.array([1,2,3,4,5,6,7,8,9,10,11,12])\n",
    "arr.reshape(2,3,2)"
   ]
  },
  {
   "cell_type": "code",
   "execution_count": 76,
   "id": "340d9452-a1ae-40cf-9fec-efe422b122a5",
   "metadata": {},
   "outputs": [
    {
     "data": {
      "text/plain": [
       "array([[[ 1,  2,  3,  4],\n",
       "        [ 5,  6,  7,  8],\n",
       "        [ 9, 10, 11, 12]]])"
      ]
     },
     "execution_count": 76,
     "metadata": {},
     "output_type": "execute_result"
    }
   ],
   "source": [
    "arr=np.array([1,2,3,4,5,6,7,8,9,10,11,12])\n",
    "c=arr.reshape (1,3,4)\n",
    "c"
   ]
  },
  {
   "cell_type": "code",
   "execution_count": 78,
   "id": "8f2694d9-1c2e-4ec9-aaf1-f2bd56f66a79",
   "metadata": {},
   "outputs": [
    {
     "data": {
      "text/plain": [
       "array([ 1,  2,  3,  4,  5,  6,  7,  8,  9, 10, 11, 12])"
      ]
     },
     "execution_count": 78,
     "metadata": {},
     "output_type": "execute_result"
    }
   ],
   "source": [
    "#to change back any dimension to one dimension- known as flattening\n",
    "c.reshape(-1)"
   ]
  },
  {
   "cell_type": "code",
   "execution_count": 82,
   "id": "1b138e95-807d-4929-b1a6-4e353245fb75",
   "metadata": {},
   "outputs": [
    {
     "data": {
      "text/plain": [
       "array([ 1,  2,  3,  4,  5,  6,  7,  8,  9, 10, 11, 12, 13, 14, 15, 16, 17,\n",
       "       18, 19, 20, 21, 22, 23, 24, 25, 26, 27, 28, 29, 30, 31, 32, 33, 34,\n",
       "       35, 36, 37, 38, 39, 40, 41, 42, 43, 44, 45, 46, 47, 48, 49, 50, 51,\n",
       "       52, 53, 54, 55, 56, 57, 58, 59, 60, 61, 62, 63, 64, 65, 66, 67, 68,\n",
       "       69, 70, 71, 72, 73, 74, 75, 76, 77, 78, 79, 80, 81, 82, 83, 84, 85,\n",
       "       86, 87, 88, 89, 90, 91, 92, 93, 94, 95, 96, 97, 98, 99])"
      ]
     },
     "execution_count": 82,
     "metadata": {},
     "output_type": "execute_result"
    }
   ],
   "source": [
    "a=np.arange(1,100)\n",
    "a"
   ]
  },
  {
   "cell_type": "code",
   "execution_count": 86,
   "id": "483a78fd-1505-41c4-b66c-dc36565caa07",
   "metadata": {},
   "outputs": [
    {
     "data": {
      "text/plain": [
       "array([ 1,  3,  5,  7,  9, 11, 13, 15, 17, 19, 21, 23, 25, 27, 29, 31, 33,\n",
       "       35, 37, 39, 41, 43, 45, 47, 49])"
      ]
     },
     "execution_count": 86,
     "metadata": {},
     "output_type": "execute_result"
    }
   ],
   "source": [
    "a=np.arange (1,51,2)\n",
    "a"
   ]
  },
  {
   "cell_type": "code",
   "execution_count": 88,
   "id": "2418fbe6-e5e7-4d61-ad58-2fc815a5c7fa",
   "metadata": {},
   "outputs": [
    {
     "data": {
      "text/plain": [
       "array([25, 26, 27, 28, 29, 30, 31, 32, 33, 34, 35, 36, 37, 38, 39, 40, 41,\n",
       "       42, 43, 44, 45, 46, 47, 48, 49, 50, 51, 52, 53, 54, 55, 56, 57, 58,\n",
       "       59, 60, 61, 62, 63, 64, 65, 66, 67, 68, 69, 70, 71, 72, 73, 74, 75])"
      ]
     },
     "execution_count": 88,
     "metadata": {},
     "output_type": "execute_result"
    }
   ],
   "source": [
    "a=np.arange(25,76)\n",
    "a"
   ]
  },
  {
   "cell_type": "code",
   "execution_count": 92,
   "id": "74f90c78-53dd-4ac1-a9ad-8727167a2821",
   "metadata": {},
   "outputs": [
    {
     "data": {
      "text/plain": [
       "array([1, 1, 1, 1])"
      ]
     },
     "execution_count": 92,
     "metadata": {},
     "output_type": "execute_result"
    }
   ],
   "source": [
    "b=np.ones(4,dtype='int')\n",
    "b"
   ]
  },
  {
   "cell_type": "code",
   "execution_count": 100,
   "id": "dc12e642-2c8d-422e-8580-497ada0c0412",
   "metadata": {},
   "outputs": [
    {
     "data": {
      "text/plain": [
       "array([[1, 1, 1],\n",
       "       [1, 1, 1],\n",
       "       [1, 1, 1],\n",
       "       [1, 1, 1]])"
      ]
     },
     "execution_count": 100,
     "metadata": {},
     "output_type": "execute_result"
    }
   ],
   "source": [
    "#two dimension\n",
    "f=np.ones((4,3),dtype='int')\n",
    "f"
   ]
  },
  {
   "cell_type": "code",
   "execution_count": 98,
   "id": "f05d4830-4901-4832-b8d9-1ca28eb062d5",
   "metadata": {},
   "outputs": [
    {
     "data": {
      "text/plain": [
       "array([[[1, 1],\n",
       "        [1, 1],\n",
       "        [1, 1]],\n",
       "\n",
       "       [[1, 1],\n",
       "        [1, 1],\n",
       "        [1, 1]],\n",
       "\n",
       "       [[1, 1],\n",
       "        [1, 1],\n",
       "        [1, 1]],\n",
       "\n",
       "       [[1, 1],\n",
       "        [1, 1],\n",
       "        [1, 1]]])"
      ]
     },
     "execution_count": 98,
     "metadata": {},
     "output_type": "execute_result"
    }
   ],
   "source": [
    "#three dimension\n",
    "f=np.ones((4,3,2),dtype='int')\n",
    "f"
   ]
  },
  {
   "cell_type": "code",
   "execution_count": 106,
   "id": "7de56904-7033-40a5-ba5d-af99ab87fcbb",
   "metadata": {},
   "outputs": [
    {
     "data": {
      "text/plain": [
       "array([0., 0., 0., 0.])"
      ]
     },
     "execution_count": 106,
     "metadata": {},
     "output_type": "execute_result"
    }
   ],
   "source": [
    "z=np.zeros(4,dtype='int')\n",
    "z"
   ]
  },
  {
   "cell_type": "code",
   "execution_count": 112,
   "id": "bc85b1b5-0eb5-4c04-a580-a68ca067decc",
   "metadata": {},
   "outputs": [
    {
     "data": {
      "text/plain": [
       "array([[0, 0, 0],\n",
       "       [0, 0, 0],\n",
       "       [0, 0, 0],\n",
       "       [0, 0, 0]])"
      ]
     },
     "execution_count": 112,
     "metadata": {},
     "output_type": "execute_result"
    }
   ],
   "source": [
    "#two dimensional\n",
    "z=np.zeros((4,3),dtype='int')\n",
    "z"
   ]
  },
  {
   "cell_type": "code",
   "execution_count": 114,
   "id": "4cdf4db8-940f-4535-bb8e-84365a90bda6",
   "metadata": {},
   "outputs": [
    {
     "data": {
      "text/plain": [
       "array([[[0, 0, 0, 0, 0],\n",
       "        [0, 0, 0, 0, 0],\n",
       "        [0, 0, 0, 0, 0]],\n",
       "\n",
       "       [[0, 0, 0, 0, 0],\n",
       "        [0, 0, 0, 0, 0],\n",
       "        [0, 0, 0, 0, 0]],\n",
       "\n",
       "       [[0, 0, 0, 0, 0],\n",
       "        [0, 0, 0, 0, 0],\n",
       "        [0, 0, 0, 0, 0]],\n",
       "\n",
       "       [[0, 0, 0, 0, 0],\n",
       "        [0, 0, 0, 0, 0],\n",
       "        [0, 0, 0, 0, 0]]])"
      ]
     },
     "execution_count": 114,
     "metadata": {},
     "output_type": "execute_result"
    }
   ],
   "source": [
    "#three dimensional\n",
    "x=np.zeros((4,3,5),dtype='int')\n",
    "x"
   ]
  },
  {
   "cell_type": "code",
   "execution_count": 120,
   "id": "65e40404-8dcf-4523-ada4-f4360cdf430d",
   "metadata": {},
   "outputs": [
    {
     "data": {
      "text/plain": [
       "array([0.        , 0.02040816, 0.04081633, 0.06122449, 0.08163265,\n",
       "       0.10204082, 0.12244898, 0.14285714, 0.16326531, 0.18367347,\n",
       "       0.20408163, 0.2244898 , 0.24489796, 0.26530612, 0.28571429,\n",
       "       0.30612245, 0.32653061, 0.34693878, 0.36734694, 0.3877551 ,\n",
       "       0.40816327, 0.42857143, 0.44897959, 0.46938776, 0.48979592,\n",
       "       0.51020408, 0.53061224, 0.55102041, 0.57142857, 0.59183673,\n",
       "       0.6122449 , 0.63265306, 0.65306122, 0.67346939, 0.69387755,\n",
       "       0.71428571, 0.73469388, 0.75510204, 0.7755102 , 0.79591837,\n",
       "       0.81632653, 0.83673469, 0.85714286, 0.87755102, 0.89795918,\n",
       "       0.91836735, 0.93877551, 0.95918367, 0.97959184, 1.        ])"
      ]
     },
     "execution_count": 120,
     "metadata": {},
     "output_type": "execute_result"
    }
   ],
   "source": [
    "#to get the fraction between two numbers\n",
    "a=np.linspace(0,1)\n",
    "a"
   ]
  },
  {
   "cell_type": "code",
   "execution_count": 122,
   "id": "66f79fe4-e6f8-49ef-ae50-b1eabb4aaa31",
   "metadata": {},
   "outputs": [
    {
     "data": {
      "text/plain": [
       "array([0.  , 0.25, 0.5 , 0.75, 1.  ])"
      ]
     },
     "execution_count": 122,
     "metadata": {},
     "output_type": "execute_result"
    }
   ],
   "source": [
    "#to divide fraction into equal number of parts\n",
    "a=np.linspace(0,1,5)\n",
    "a"
   ]
  },
  {
   "cell_type": "code",
   "execution_count": 130,
   "id": "f6593832-66b0-43b4-b54c-4e4b627f3285",
   "metadata": {},
   "outputs": [
    {
     "data": {
      "text/plain": [
       "array([[1, 0, 0, 0, 0],\n",
       "       [0, 2, 0, 0, 0],\n",
       "       [0, 0, 3, 0, 0],\n",
       "       [0, 0, 0, 4, 0],\n",
       "       [0, 0, 0, 0, 5]])"
      ]
     },
     "execution_count": 130,
     "metadata": {},
     "output_type": "execute_result"
    }
   ],
   "source": [
    "#to present data diagonally\n",
    "a=np.array ([1,2,3,4,5])\n",
    "c=np.diag(a)\n",
    "c"
   ]
  },
  {
   "cell_type": "code",
   "execution_count": 1,
   "id": "81a10fc0-0ce3-43fd-8d5e-5f718f63322c",
   "metadata": {},
   "outputs": [
    {
     "data": {
      "text/plain": [
       "array([[1., 0., 0., 0., 0.],\n",
       "       [0., 1., 0., 0., 0.],\n",
       "       [0., 0., 1., 0., 0.],\n",
       "       [0., 0., 0., 1., 0.],\n",
       "       [0., 0., 0., 0., 1.]])"
      ]
     },
     "execution_count": 1,
     "metadata": {},
     "output_type": "execute_result"
    }
   ],
   "source": [
    "import numpy as np\n",
    "np.eye(5)"
   ]
  },
  {
   "cell_type": "code",
   "execution_count": 9,
   "id": "f2bb580c-188b-4e68-befe-acfbefc9419c",
   "metadata": {},
   "outputs": [
    {
     "name": "stdout",
     "output_type": "stream",
     "text": [
      "[1 2 3 4 5 6 7 8]\n"
     ]
    }
   ],
   "source": [
    "a=np.array ([1,2,3,4,5,6,7,8])\n",
    "arr=a.reshape (2,4)\n",
    "arr\n",
    "print(arr.base)\n"
   ]
  },
  {
   "cell_type": "code",
   "execution_count": 172,
   "id": "17597426-1f2e-4917-9ff3-339aa0a83234",
   "metadata": {},
   "outputs": [
    {
     "data": {
      "text/plain": [
       "array([[[ 1,  2,  3,  4,  5],\n",
       "        [ 6,  7,  8,  9, 10],\n",
       "        [11, 12, 13, 14, 15],\n",
       "        [16, 17, 18, 19, 20]]])"
      ]
     },
     "execution_count": 172,
     "metadata": {},
     "output_type": "execute_result"
    }
   ],
   "source": [
    "a=np.arange(1,21)\n",
    "arr=a.reshape (1,4,5)\n",
    "arr"
   ]
  },
  {
   "cell_type": "code",
   "execution_count": 174,
   "id": "319ff4e4-3b2b-4e25-8238-8ec779fa350d",
   "metadata": {},
   "outputs": [
    {
     "data": {
      "text/plain": [
       "array([ 1,  2,  3,  4,  5,  6,  7,  8,  9, 10, 11, 12, 13, 14, 15, 16, 17,\n",
       "       18, 19, 20])"
      ]
     },
     "execution_count": 174,
     "metadata": {},
     "output_type": "execute_result"
    }
   ],
   "source": [
    "arr.reshape(-1)"
   ]
  },
  {
   "cell_type": "code",
   "execution_count": null,
   "id": "58774eeb-4d95-40ca-8373-c39314ef0e67",
   "metadata": {},
   "outputs": [],
   "source": [
    "#mathematical operations\n",
    "#sum\n",
    "arr=np.array([1,2,3,4,])\n",
    "result=np.sum(arr)\n",
    "result"
   ]
  },
  {
   "cell_type": "code",
   "execution_count": 7,
   "id": "9b6bee6b-b6c8-4c54-96dc-1fb17353a99d",
   "metadata": {},
   "outputs": [
    {
     "data": {
      "text/plain": [
       "26"
      ]
     },
     "execution_count": 7,
     "metadata": {},
     "output_type": "execute_result"
    }
   ],
   "source": [
    "import numpy as np\n",
    "arr=np.array([[1,2],[3,4],[2,3],[5,6]])\n",
    "a=np.sum(arr)\n",
    "a\n"
   ]
  },
  {
   "cell_type": "code",
   "execution_count": 9,
   "id": "51b15d67-e59e-4c0d-bd47-d2275248e4a1",
   "metadata": {},
   "outputs": [
    {
     "data": {
      "text/plain": [
       "32"
      ]
     },
     "execution_count": 9,
     "metadata": {},
     "output_type": "execute_result"
    }
   ],
   "source": [
    "arr1=([[[1,2],[5,5]],[[4,3],[5,7]]])\n",
    "a=np.sum(arr1)\n",
    "a"
   ]
  },
  {
   "cell_type": "code",
   "execution_count": 13,
   "id": "f5103938-685e-4cee-82dd-6ea90d2f186f",
   "metadata": {},
   "outputs": [
    {
     "data": {
      "text/plain": [
       "array([ 2,  4,  6,  8, 10])"
      ]
     },
     "execution_count": 13,
     "metadata": {},
     "output_type": "execute_result"
    }
   ],
   "source": [
    "arr=([1,2,3,4,5])\n",
    "arr1=([1,2,3,4,5])\n",
    "b=np.add(arr,arr1)\n",
    "b"
   ]
  },
  {
   "cell_type": "code",
   "execution_count": 7,
   "id": "0926a49b-405f-4ab0-915e-2fddb96420cd",
   "metadata": {},
   "outputs": [
    {
     "data": {
      "text/plain": [
       "array([[10, 16],\n",
       "       [16, 10],\n",
       "       [ 9, 10]])"
      ]
     },
     "execution_count": 7,
     "metadata": {},
     "output_type": "execute_result"
    }
   ],
   "source": [
    "import numpy as np\n",
    "arr1=([[1,8],[9,4],[4,6]])\n",
    "arr2=([[9,8],[7,6],[5,4]])\n",
    "a=np.add(arr1,arr2)\n",
    "a"
   ]
  },
  {
   "cell_type": "code",
   "execution_count": 19,
   "id": "fdabf2bc-f90f-414e-bdbd-d1e07e5bd232",
   "metadata": {},
   "outputs": [
    {
     "data": {
      "text/plain": [
       "79"
      ]
     },
     "execution_count": 19,
     "metadata": {},
     "output_type": "execute_result"
    }
   ],
   "source": [
    "arr1=([[[1,2],[3,4]],[[4,6],[7,6]]])\n",
    "arr2=([[[6,8],[9,8]],[[6,5],[3,1]]])\n",
    "b= np.sum(arr1+arr2)\n",
    "b"
   ]
  },
  {
   "cell_type": "code",
   "execution_count": 21,
   "id": "6d39dd57-7ce5-48ac-90c4-cb4a1bae7df8",
   "metadata": {},
   "outputs": [
    {
     "name": "stdout",
     "output_type": "stream",
     "text": [
      "[11 15]\n",
      "[ 3  7  5 11]\n"
     ]
    }
   ],
   "source": [
    "#two dimension axis-0,1\n",
    "arr=np.array([[1,2],\n",
    "              [3,4],\n",
    "              [2,3],\n",
    "              [5,6]])\n",
    "print (np.sum(arr,axis=0)) #horizontally \n",
    "print (np.sum(arr,axis=1)) #vertically      "
   ]
  },
  {
   "cell_type": "code",
   "execution_count": 23,
   "id": "47eeb623-4fa3-4854-87e8-8202e9527d81",
   "metadata": {},
   "outputs": [
    {
     "name": "stdout",
     "output_type": "stream",
     "text": [
      "[[12 13]\n",
      " [16  9]]\n",
      "[[ 4  6]\n",
      " [17 12]\n",
      " [ 7  4]]\n"
     ]
    }
   ],
   "source": [
    "#three dimension- axis-0,1\n",
    "arr=np.array([[[1,2],[3,4]],\n",
    "              [[9,8],[8,4]],\n",
    "              [[2,3],[5,1]]])\n",
    "print (np.sum(arr,axis=0))\n",
    "print (np.sum(arr,axis=1))"
   ]
  },
  {
   "cell_type": "code",
   "execution_count": 37,
   "id": "9bc57c32-1312-4a2e-982e-2f991b9792c7",
   "metadata": {},
   "outputs": [
    {
     "name": "stdout",
     "output_type": "stream",
     "text": [
      "[0 0 0 0 0]\n",
      "[ 1  4  9 16 25]\n"
     ]
    }
   ],
   "source": [
    "#subtraction\n",
    "#multiplication\n",
    "arr=([1,2,3,4,5])\n",
    "arr1=([1,2,3,4,5])\n",
    "print(np.subtract(arr,arr1))\n",
    "print(np.multiply(arr,arr1))\n",
    "\n"
   ]
  },
  {
   "cell_type": "code",
   "execution_count": 29,
   "id": "8f92dedd-10b9-4948-90db-06145eceafea",
   "metadata": {},
   "outputs": [
    {
     "name": "stdout",
     "output_type": "stream",
     "text": [
      "4.75\n"
     ]
    }
   ],
   "source": [
    "\n",
    "arr=([[[1,2],[4,3]],[[6,5],[8,9]]])\n"
   ]
  },
  {
   "cell_type": "code",
   "execution_count": 39,
   "id": "1cdfe287-b3ed-4e64-8689-0ee8b2cb6074",
   "metadata": {},
   "outputs": [
    {
     "name": "stdout",
     "output_type": "stream",
     "text": [
      "9\n",
      "1\n",
      "2.6339134382131846\n",
      "4.75\n"
     ]
    }
   ],
   "source": [
    "#max() to get maximum\n",
    "#min() to get minimum\n",
    "#std() standard deviation\n",
    "#mean() to get mean\n",
    "arr=([[[1,2],[4,3]],[[6,5],[8,9]]])\n",
    "print(np.max(arr))\n",
    "print(np.min(arr))\n",
    "print(np.std(arr))\n",
    "print(np.mean(arr))"
   ]
  },
  {
   "cell_type": "code",
   "execution_count": 53,
   "id": "d7cf33e2-c3f9-43a2-8171-034a3f027153",
   "metadata": {},
   "outputs": [
    {
     "name": "stdout",
     "output_type": "stream",
     "text": [
      "1\n",
      "2\n",
      "3\n",
      "4\n",
      "5\n",
      "6\n"
     ]
    }
   ],
   "source": [
    "#how to iterate an array\n",
    "\n",
    "a=([1,2,3,4,5,6])\n",
    "i=0\n",
    "for i in a:\n",
    "    print (i)"
   ]
  },
  {
   "cell_type": "code",
   "execution_count": 75,
   "id": "67ec1936-390a-4910-ba71-27b3836a0a5b",
   "metadata": {},
   "outputs": [
    {
     "name": "stdout",
     "output_type": "stream",
     "text": [
      "3\n",
      "4\n",
      "5\n",
      "6\n",
      "7\n",
      "8\n"
     ]
    }
   ],
   "source": [
    "a=([1,2,3,4,5,6])\n",
    "b=2\n",
    "for i in a:\n",
    "    print (i+b)"
   ]
  },
  {
   "cell_type": "code",
   "execution_count": 79,
   "id": "f1ff941d-fdde-4df7-956e-36200e73021e",
   "metadata": {},
   "outputs": [
    {
     "name": "stdout",
     "output_type": "stream",
     "text": [
      "1\n",
      "2\n",
      "4\n",
      "5\n",
      "6\n",
      "5\n"
     ]
    }
   ],
   "source": [
    "a=([[1,2],[4,5],[6,5]])\n",
    "i=0\n",
    "for i in a:\n",
    "    for x in i: \n",
    "        print(x)\n",
    "    "
   ]
  },
  {
   "cell_type": "code",
   "execution_count": 81,
   "id": "0ebb27a6-4947-42e8-bfef-f0e0354fbece",
   "metadata": {},
   "outputs": [
    {
     "name": "stdout",
     "output_type": "stream",
     "text": [
      "1\n",
      "2\n",
      "3\n",
      "4\n",
      "5\n",
      "6\n",
      "7\n",
      "8\n"
     ]
    }
   ],
   "source": [
    "#to iterate unknown number of items--nditer()\n",
    "arr2=np.array([[1,2,3,4],\n",
    "              [5,6,7,8]])\n",
    "for i in np.nditer(arr2):\n",
    "    print (i)\n",
    "    "
   ]
  },
  {
   "cell_type": "code",
   "execution_count": 85,
   "id": "8fbe91bb-dabc-482f-8c43-f543c7a4c0a6",
   "metadata": {},
   "outputs": [
    {
     "name": "stdout",
     "output_type": "stream",
     "text": [
      "1\n",
      "2\n",
      "3\n",
      "4\n",
      "4\n",
      "6\n",
      "7\n",
      "6\n"
     ]
    }
   ],
   "source": [
    "arr1=np.array([[[1,2],[3,4]],[[4,6],[7,6]]])\n",
    "for i in np.nditer(arr1):\n",
    "    print(i)"
   ]
  },
  {
   "cell_type": "code",
   "execution_count": 97,
   "id": "4c574f10-1c50-4465-9ce9-f46341a38526",
   "metadata": {},
   "outputs": [
    {
     "name": "stdout",
     "output_type": "stream",
     "text": [
      "(0,) 1\n",
      "(1,) 2\n",
      "(2,) 3\n",
      "(3,) 4\n",
      "(4,) 5\n",
      "(5,) 6\n"
     ]
    }
   ],
   "source": [
    "# to use the index- ndnumerate()\n",
    "arr1=np.array=([1,2,3,4,5,6])\n",
    "for id, i in np.ndenumerate(arr1):\n",
    "    print(id,i)"
   ]
  },
  {
   "cell_type": "code",
   "execution_count": 105,
   "id": "bc302840-b248-46fe-9b6f-d576f9ece7be",
   "metadata": {},
   "outputs": [
    {
     "ename": "TypeError",
     "evalue": "'list' object is not callable",
     "output_type": "error",
     "traceback": [
      "\u001b[1;31m---------------------------------------------------------------------------\u001b[0m",
      "\u001b[1;31mTypeError\u001b[0m                                 Traceback (most recent call last)",
      "Cell \u001b[1;32mIn[105], line 1\u001b[0m\n\u001b[1;32m----> 1\u001b[0m a\u001b[38;5;241m=\u001b[39mnp\u001b[38;5;241m.\u001b[39marray([[\u001b[38;5;241m1\u001b[39m,\u001b[38;5;241m2\u001b[39m],[\u001b[38;5;241m4\u001b[39m,\u001b[38;5;241m5\u001b[39m],[\u001b[38;5;241m6\u001b[39m,\u001b[38;5;241m5\u001b[39m]])\n",
      "\u001b[1;31mTypeError\u001b[0m: 'list' object is not callable"
     ]
    }
   ],
   "source": [
    "\n"
   ]
  },
  {
   "cell_type": "code",
   "execution_count": 107,
   "id": "db3b0728-93ad-4a9a-988f-28e9fd0d783d",
   "metadata": {},
   "outputs": [
    {
     "ename": "TypeError",
     "evalue": "'list' object is not callable",
     "output_type": "error",
     "traceback": [
      "\u001b[1;31m---------------------------------------------------------------------------\u001b[0m",
      "\u001b[1;31mTypeError\u001b[0m                                 Traceback (most recent call last)",
      "Cell \u001b[1;32mIn[107], line 1\u001b[0m\n\u001b[1;32m----> 1\u001b[0m a\u001b[38;5;241m=\u001b[39mnp\u001b[38;5;241m.\u001b[39marray([[\u001b[38;5;241m1\u001b[39m,\u001b[38;5;241m2\u001b[39m],[\u001b[38;5;241m4\u001b[39m,\u001b[38;5;241m5\u001b[39m],[\u001b[38;5;241m6\u001b[39m,\u001b[38;5;241m5\u001b[39m]])\n",
      "\u001b[1;31mTypeError\u001b[0m: 'list' object is not callable"
     ]
    }
   ],
   "source": [
    "a=np.array([[1,2],[4,5],[6,5]])"
   ]
  },
  {
   "cell_type": "code",
   "execution_count": 3,
   "id": "c8a19ee9-1e7e-4433-98f3-475558651828",
   "metadata": {},
   "outputs": [
    {
     "name": "stdout",
     "output_type": "stream",
     "text": [
      "(0, 0, 0) 1\n",
      "(0, 0, 1) 2\n",
      "(0, 1, 0) 3\n",
      "(0, 1, 1) 4\n",
      "(1, 0, 0) 4\n",
      "(1, 0, 1) 6\n",
      "(1, 1, 0) 7\n",
      "(1, 1, 1) 6\n"
     ]
    }
   ],
   "source": [
    "import numpy as np\n",
    "arr1=np.array([[[1,2],[3,4]],[[4,6],[7,6]]])\n",
    "for id, i in np.ndenumerate(arr1):\n",
    "    print(id, i)"
   ]
  },
  {
   "cell_type": "code",
   "execution_count": 7,
   "id": "d0f05488-f499-4290-9ec2-48b0f394a86f",
   "metadata": {},
   "outputs": [
    {
     "data": {
      "text/plain": [
       "array([1, 2, 3, 4, 5, 2, 3, 4, 5, 6])"
      ]
     },
     "execution_count": 7,
     "metadata": {},
     "output_type": "execute_result"
    }
   ],
   "source": [
    "#to join arrays-- concantenate()\n",
    "#one dimension\n",
    "arr=([1,2,3,4,5])\n",
    "arr1=([2,3,4,5,6])\n",
    "a=np.concatenate((arr,arr1))\n",
    "a\n"
   ]
  },
  {
   "cell_type": "code",
   "execution_count": 21,
   "id": "b92845e5-89cc-42f6-b481-c8f83ced1a82",
   "metadata": {},
   "outputs": [
    {
     "data": {
      "text/plain": [
       "array([[6, 7, 5, 4],\n",
       "       [8, 9, 5, 3]])"
      ]
     },
     "execution_count": 21,
     "metadata": {},
     "output_type": "execute_result"
    }
   ],
   "source": [
    "#two dimension\n",
    "arr4=([[6,7],[8,9]])\n",
    "arr3=([[5,4],[5,3]])\n",
    "a=np.concatenate((arr4,arr3), axis=1)\n",
    "a"
   ]
  },
  {
   "cell_type": "code",
   "execution_count": 23,
   "id": "d1eb1768-8779-4852-95f5-b69a5e5c4e2b",
   "metadata": {},
   "outputs": [
    {
     "data": {
      "text/plain": [
       "array([[6, 7],\n",
       "       [8, 9],\n",
       "       [5, 4],\n",
       "       [5, 3]])"
      ]
     },
     "execution_count": 23,
     "metadata": {},
     "output_type": "execute_result"
    }
   ],
   "source": [
    "arr4=([[6,7],[8,9]])\n",
    "arr3=([[5,4],[5,3]])\n",
    "a=np.concatenate((arr4,arr3), axis=0)\n",
    "a"
   ]
  },
  {
   "cell_type": "code",
   "execution_count": 17,
   "id": "a9f2b55f-06ad-4b6a-91f7-e9084c0eccef",
   "metadata": {},
   "outputs": [
    {
     "data": {
      "text/plain": [
       "array([[[3, 4],\n",
       "        [8, 7],\n",
       "        [7, 5],\n",
       "        [1, 2]],\n",
       "\n",
       "       [[9, 3],\n",
       "        [7, 5],\n",
       "        [6, 3],\n",
       "        [1, 2]]])"
      ]
     },
     "execution_count": 17,
     "metadata": {},
     "output_type": "execute_result"
    }
   ],
   "source": [
    "# three dimension\n",
    "arr5= ([[[3,4],[8,7]],[[9,3],[7,5]]])\n",
    "arr6= ([[[7,5],[1,2]],[[6,3],[1,2]]])\n",
    "a=np.concatenate((arr5,arr6), axis=1)\n",
    "a"
   ]
  },
  {
   "cell_type": "code",
   "execution_count": 19,
   "id": "972f4632-08b4-47fe-bbe8-10f926a82cf6",
   "metadata": {},
   "outputs": [
    {
     "data": {
      "text/plain": [
       "array([[[3, 4],\n",
       "        [8, 7]],\n",
       "\n",
       "       [[9, 3],\n",
       "        [7, 5]],\n",
       "\n",
       "       [[7, 5],\n",
       "        [1, 2]],\n",
       "\n",
       "       [[6, 3],\n",
       "        [1, 2]]])"
      ]
     },
     "execution_count": 19,
     "metadata": {},
     "output_type": "execute_result"
    }
   ],
   "source": [
    "arr5= ([[[3,4],[8,7]],[[9,3],[7,5]]])\n",
    "arr6= ([[[7,5],[1,2]],[[6,3],[1,2]]])\n",
    "a=np.concatenate((arr5,arr6), axis=0)\n",
    "a"
   ]
  },
  {
   "cell_type": "code",
   "execution_count": null,
   "id": "a238d13b-c488-449c-97f6-5832ac1512d3",
   "metadata": {},
   "outputs": [],
   "source": [
    "#stack-"
   ]
  },
  {
   "cell_type": "code",
   "execution_count": 5,
   "id": "3159d193-187d-4f99-8bed-a9423eda6c18",
   "metadata": {},
   "outputs": [
    {
     "data": {
      "text/plain": [
       "array([[3, 4],\n",
       "       [5, 6],\n",
       "       [9, 8],\n",
       "       [3, 6],\n",
       "       [2, 4],\n",
       "       [8, 6],\n",
       "       [8, 4],\n",
       "       [6, 2]])"
      ]
     },
     "execution_count": 5,
     "metadata": {},
     "output_type": "execute_result"
    }
   ],
   "source": [
    "import numpy as np\n",
    "arr1=([[3,4],[5,6],[9,8],[3,6]])\n",
    "arr2=([[2,4],[8,6],[8,4],[6,2]])\n",
    "a=np.concatenate((arr1,arr2),axis=0)\n",
    "a"
   ]
  },
  {
   "cell_type": "code",
   "execution_count": 7,
   "id": "8eb9e060-29cc-42d0-8e27-168a197a3261",
   "metadata": {},
   "outputs": [
    {
     "data": {
      "text/plain": [
       "array([[3, 4, 5, 6],\n",
       "       [6, 7, 9, 2],\n",
       "       [9, 2, 4, 5]])"
      ]
     },
     "execution_count": 7,
     "metadata": {},
     "output_type": "execute_result"
    }
   ],
   "source": [
    "arr1=([[3,4],[6,7],[9,2]])\n",
    "arr2=([[5,6],[9,2],[4,5]])\n",
    "a=np.concatenate((arr1,arr2),axis=1)\n",
    "a"
   ]
  },
  {
   "cell_type": "code",
   "execution_count": 11,
   "id": "e4030c93-86f5-48d6-93c2-fdae5304a047",
   "metadata": {},
   "outputs": [
    {
     "data": {
      "text/plain": [
       "array([3, 4, 9, 5, 7, 6, 3, 4, 4, 5, 6, 7, 5, 4, 2, 1])"
      ]
     },
     "execution_count": 11,
     "metadata": {},
     "output_type": "execute_result"
    }
   ],
   "source": [
    "arr1=([3,4,9,5,7,6,3,4])\n",
    "arr2=([4,5,6,7,5,4,2,1])\n",
    "a=np.concatenate((arr1,arr2))\n",
    "a\n"
   ]
  },
  {
   "cell_type": "code",
   "execution_count": 27,
   "id": "d080d850-ca14-4749-a195-c4a9912ac9ec",
   "metadata": {},
   "outputs": [
    {
     "data": {
      "text/plain": [
       "array([[3, 4],\n",
       "       [2, 3],\n",
       "       [4, 5],\n",
       "       [5, 6],\n",
       "       [6, 7]])"
      ]
     },
     "execution_count": 27,
     "metadata": {},
     "output_type": "execute_result"
    }
   ],
   "source": [
    "a=([3,2,4,5,6])\n",
    "b=([4,3,5,6,7])\n",
    "c=np.stack((a,b),axis=1)\n",
    "c"
   ]
  },
  {
   "cell_type": "code",
   "execution_count": 35,
   "id": "b58d60b2-bc5d-4ae1-88ac-1043c4cce259",
   "metadata": {},
   "outputs": [
    {
     "data": {
      "text/plain": [
       "array([[2, 3, 5, 4],\n",
       "       [4, 5, 6, 3]])"
      ]
     },
     "execution_count": 35,
     "metadata": {},
     "output_type": "execute_result"
    }
   ],
   "source": [
    "a=([[2,3],[4,5]])\n",
    "b=([[5,4,],[6,3]])\n",
    "c=np.hstack((a,b))\n",
    "c"
   ]
  },
  {
   "cell_type": "code",
   "execution_count": 37,
   "id": "924437b0-2042-417d-b169-bad8ae8b5975",
   "metadata": {},
   "outputs": [
    {
     "data": {
      "text/plain": [
       "array([[2, 3],\n",
       "       [4, 5],\n",
       "       [5, 4],\n",
       "       [6, 3]])"
      ]
     },
     "execution_count": 37,
     "metadata": {},
     "output_type": "execute_result"
    }
   ],
   "source": [
    "a=([[2,3],[4,5]])\n",
    "b=([[5,4,],[6,3]])\n",
    "c=np.vstack((a,b))\n",
    "c"
   ]
  },
  {
   "cell_type": "code",
   "execution_count": 55,
   "id": "a17fab49-83e1-4381-bb2f-ff4a3e025781",
   "metadata": {},
   "outputs": [
    {
     "name": "stdout",
     "output_type": "stream",
     "text": [
      "[array([1, 2]), array([3, 4]), array([5]), array([6])]\n"
     ]
    },
    {
     "data": {
      "text/plain": [
       "array([1, 2])"
      ]
     },
     "execution_count": 55,
     "metadata": {},
     "output_type": "execute_result"
    }
   ],
   "source": [
    "arr=np.array([1,2,3,4,5,6])\n",
    "a=np.array_split(arr,4)\n",
    "print(a)\n",
    "b=a[0]\n",
    "b"
   ]
  },
  {
   "cell_type": "code",
   "execution_count": 41,
   "id": "25873ecc-e1c5-4d11-9479-27106ffaa536",
   "metadata": {},
   "outputs": [
    {
     "data": {
      "text/plain": [
       "[array([1, 2]), array([3, 4]), array([5, 6])]"
      ]
     },
     "execution_count": 41,
     "metadata": {},
     "output_type": "execute_result"
    }
   ],
   "source": [
    "arr=np.array([1,2,3,4,5,6])\n",
    "a=np.array_split(arr,3)\n",
    "a"
   ]
  },
  {
   "cell_type": "code",
   "execution_count": 43,
   "id": "c30211ba-fb26-4f19-b2d0-91435b06e952",
   "metadata": {},
   "outputs": [
    {
     "data": {
      "text/plain": [
       "[array([1, 2, 3]), array([4, 5, 6])]"
      ]
     },
     "execution_count": 43,
     "metadata": {},
     "output_type": "execute_result"
    }
   ],
   "source": [
    "arr=np.array([1,2,3,4,5,6])\n",
    "a=np.array_split(arr,2)\n",
    "a"
   ]
  },
  {
   "cell_type": "code",
   "execution_count": 61,
   "id": "898e98ab-998e-4a6b-9c86-ac1b4bee03be",
   "metadata": {},
   "outputs": [
    {
     "data": {
      "text/plain": [
       "[array([[3, 4, 5, 6]]), array([[8, 7, 6, 5]]), array([[7, 3, 4, 5]])]"
      ]
     },
     "execution_count": 61,
     "metadata": {},
     "output_type": "execute_result"
    }
   ],
   "source": [
    "a=([[3,4,5,6],[8,7,6,5],[7,3,4,5]])\n",
    "arr=np.array_split(a,3)\n",
    "arr"
   ]
  },
  {
   "cell_type": "code",
   "execution_count": 67,
   "id": "e598dbe9-7419-4f6a-ac1a-0ac7f687b9ef",
   "metadata": {},
   "outputs": [
    {
     "data": {
      "text/plain": [
       "[array([[3, 4],\n",
       "        [5, 4],\n",
       "        [9, 3]]),\n",
       " array([[5, 3],\n",
       "        [5, 6],\n",
       "        [4, 5]])]"
      ]
     },
     "execution_count": 67,
     "metadata": {},
     "output_type": "execute_result"
    }
   ],
   "source": [
    "a=np.array([[3,4,5,3],[5,4,5,6],[9,3,4,5]])\n",
    "np.array_split(a,2,axis=1)"
   ]
  },
  {
   "cell_type": "code",
   "execution_count": null,
   "id": "e56b62f3-8ef7-4aba-8466-85b4a6e14e86",
   "metadata": {},
   "outputs": [],
   "source": [
    "vstack-- full details of a person-- horizontally full details-- column wise details\n",
    "hstack-- particular detail of all persons-- vertically full details-- row wise details\n",
    "vsplit and hsplit goes the same way\n"
   ]
  },
  {
   "cell_type": "code",
   "execution_count": null,
   "id": "ae9a49e7-766f-44df-9b78-94fc1c4d5348",
   "metadata": {},
   "outputs": [],
   "source": [
    "where()-- to search an array"
   ]
  },
  {
   "cell_type": "code",
   "execution_count": 73,
   "id": "5c0c4095-4016-42ba-a681-5ee217ccc8e3",
   "metadata": {},
   "outputs": [
    {
     "data": {
      "text/plain": [
       "(array([4, 6, 7], dtype=int64),)"
      ]
     },
     "execution_count": 73,
     "metadata": {},
     "output_type": "execute_result"
    }
   ],
   "source": [
    "a=np.array([1,2,3,4,5,6,5,5])\n",
    "b=np.where(a==5)\n",
    "b"
   ]
  },
  {
   "cell_type": "code",
   "execution_count": 75,
   "id": "833f37ea-9129-40a7-8b5f-f67c982a37b4",
   "metadata": {},
   "outputs": [
    {
     "data": {
      "text/plain": [
       "(array([0, 2, 4], dtype=int64),)"
      ]
     },
     "execution_count": 75,
     "metadata": {},
     "output_type": "execute_result"
    }
   ],
   "source": [
    "a=np.array([2,3,4,5,6,7])\n",
    "b=np.where(a%2==0)\n",
    "b"
   ]
  },
  {
   "cell_type": "code",
   "execution_count": 77,
   "id": "4df07ff5-d99f-48f0-8ca0-361da5469e4e",
   "metadata": {},
   "outputs": [
    {
     "data": {
      "text/plain": [
       "(array([0, 1, 2], dtype=int64), array([0, 0, 0], dtype=int64))"
      ]
     },
     "execution_count": 77,
     "metadata": {},
     "output_type": "execute_result"
    }
   ],
   "source": [
    "a=np.array([[2,3],[4,5],[6,7]])\n",
    "b=np.where(a%2==0)\n",
    "b"
   ]
  },
  {
   "cell_type": "code",
   "execution_count": 7,
   "id": "43aac2fb-742d-40bb-9d1b-1c70fc42717a",
   "metadata": {},
   "outputs": [
    {
     "data": {
      "text/plain": [
       "array([0, 0, 0, 4, 5])"
      ]
     },
     "execution_count": 7,
     "metadata": {},
     "output_type": "execute_result"
    }
   ],
   "source": [
    "import numpy as np\n",
    "#for an if condition\n",
    "#np.where(condition, if true, if false\n",
    "arr=np.array([1,2,3,4,5])\n",
    "np.where(arr<=3,0,arr)\n"
   ]
  },
  {
   "cell_type": "code",
   "execution_count": 105,
   "id": "8da07f2b-a955-443c-a0d5-020293489d5f",
   "metadata": {},
   "outputs": [
    {
     "data": {
      "text/plain": [
       "5"
      ]
     },
     "execution_count": 105,
     "metadata": {},
     "output_type": "execute_result"
    }
   ],
   "source": [
    "a=np.array([1,2,3,4,5,6])\n",
    "b=np.searchsorted(a,5,side='right')\n",
    "b"
   ]
  },
  {
   "cell_type": "code",
   "execution_count": 109,
   "id": "78186998-80dc-458f-b955-a430977cc51c",
   "metadata": {},
   "outputs": [
    {
     "data": {
      "text/plain": [
       "array([1, 2, 3, 3, 5, 8])"
      ]
     },
     "execution_count": 109,
     "metadata": {},
     "output_type": "execute_result"
    }
   ],
   "source": [
    "a=np.array([2,1,3,3,8,5])\n",
    "b=np.sort(a)\n",
    "b"
   ]
  },
  {
   "cell_type": "code",
   "execution_count": 111,
   "id": "cebad485-0850-4928-8d56-c4fb9d3a9a8a",
   "metadata": {},
   "outputs": [
    {
     "data": {
      "text/plain": [
       "array(['apple', 'kiwi', 'papaya'], dtype='<U6')"
      ]
     },
     "execution_count": 111,
     "metadata": {},
     "output_type": "execute_result"
    }
   ],
   "source": [
    "a=np.array(['apple','papaya','kiwi'])\n",
    "b=np.sort(a)\n",
    "b"
   ]
  },
  {
   "cell_type": "code",
   "execution_count": 9,
   "id": "f1bbde49-fe98-456a-811c-a8a5cef884e3",
   "metadata": {},
   "outputs": [
    {
     "data": {
      "text/plain": [
       "array([[ 1,  2],\n",
       "       [ 4, 55],\n",
       "       [ 5,  6]])"
      ]
     },
     "execution_count": 9,
     "metadata": {},
     "output_type": "execute_result"
    }
   ],
   "source": [
    "a=np.array([[1,2],[55,4],[6,5]])\n",
    "b=np.sort(a)\n",
    "b"
   ]
  },
  {
   "cell_type": "code",
   "execution_count": 11,
   "id": "1e3293a6-db6d-4881-8d18-34bd44f87c36",
   "metadata": {},
   "outputs": [
    {
     "data": {
      "text/plain": [
       "array([ 2,  4,  6,  8, 10])"
      ]
     },
     "execution_count": 11,
     "metadata": {},
     "output_type": "execute_result"
    }
   ],
   "source": [
    "#filter in numpy\n",
    "a=np.arange(1,11)\n",
    "filter_arr=[]\n",
    "for i in a:\n",
    "    if i%2==0:\n",
    "        filter_arr.append(True)\n",
    "    else:\n",
    "        filter_arr.append (False)\n",
    "array=a[filter_arr]\n",
    "array"
   ]
  },
  {
   "cell_type": "code",
   "execution_count": 15,
   "id": "8dfc0377-daab-446b-ae49-74d67e961283",
   "metadata": {},
   "outputs": [
    {
     "data": {
      "text/plain": [
       "array([ 1,  3,  5,  7,  9, 11, 13, 15, 17, 19, 21, 23, 25, 27, 29, 31, 33,\n",
       "       35, 37, 39, 41, 43, 45, 47, 49])"
      ]
     },
     "execution_count": 15,
     "metadata": {},
     "output_type": "execute_result"
    }
   ],
   "source": [
    "a=np.arange(1,51)\n",
    "arr=[]\n",
    "for i in a:\n",
    "    if i%2!=0:\n",
    "        arr.append (True)\n",
    "    else:\n",
    "        arr.append (False)\n",
    "b=a[arr]\n",
    "b"
   ]
  },
  {
   "cell_type": "code",
   "execution_count": 17,
   "id": "63cea9e3-6e82-4c64-a79b-8a820db06655",
   "metadata": {},
   "outputs": [
    {
     "data": {
      "text/plain": [
       "0.609593985126162"
      ]
     },
     "execution_count": 17,
     "metadata": {},
     "output_type": "execute_result"
    }
   ],
   "source": [
    "#random\n",
    "#rand()-- to select any random numbers between 0 and 1\n",
    "arr=np.random.rand()\n",
    "arr"
   ]
  },
  {
   "cell_type": "code",
   "execution_count": 19,
   "id": "262f9be1-e968-48a4-abb5-19c9722b93db",
   "metadata": {},
   "outputs": [
    {
     "data": {
      "text/plain": [
       "array([0.49309687, 0.15073211, 0.42799449, 0.57023258, 0.65800865])"
      ]
     },
     "execution_count": 19,
     "metadata": {},
     "output_type": "execute_result"
    }
   ],
   "source": [
    "arr=np.random.rand(5)\n",
    "arr"
   ]
  },
  {
   "cell_type": "code",
   "execution_count": 34,
   "id": "276a918c-1d9c-49fd-afbc-a2d3b93fbcec",
   "metadata": {},
   "outputs": [
    {
     "data": {
      "text/plain": [
       "array([83, 52,  9, 63, 44])"
      ]
     },
     "execution_count": 34,
     "metadata": {},
     "output_type": "execute_result"
    }
   ],
   "source": [
    "#randint ()- to select any random integers in float\n",
    "#(start, end, size of arr)\n",
    "arr=np.random.randint(1,90,5)\n",
    "arr"
   ]
  },
  {
   "cell_type": "code",
   "execution_count": 38,
   "id": "551814c2-2f53-4ebb-aab2-36536655dc9c",
   "metadata": {},
   "outputs": [
    {
     "data": {
      "text/plain": [
       "array([52, 15, 61, 21, 24,  3, 22, 53,  2, 30])"
      ]
     },
     "execution_count": 38,
     "metadata": {},
     "output_type": "execute_result"
    }
   ],
   "source": [
    "#to get a random number initially and not change when refreshed used the function\n",
    "#seed()\n",
    "np.random.seed(42) #(the bracket can be provided with any number, it has no effect on output\n",
    "np.random.randint(1,70,10)\n",
    "#when 42 is given in bracket, 42 is assigned with these set of numbers in output\n",
    "#these set of numbers cant be changed when 42 is called again but can be randomly called within the set\n"
   ]
  },
  {
   "cell_type": "code",
   "execution_count": 42,
   "id": "00ecf075-ff72-4150-be53-b9509a53733a",
   "metadata": {},
   "outputs": [
    {
     "data": {
      "text/plain": [
       "array([5.90912484, 5.91702255, 6.52121121, 7.62378216, 7.15972509])"
      ]
     },
     "execution_count": 42,
     "metadata": {},
     "output_type": "execute_result"
    }
   ],
   "source": [
    "#to get float numbers from a range of given numbers\n",
    "np.random.uniform(5,10,5)"
   ]
  },
  {
   "cell_type": "code",
   "execution_count": 44,
   "id": "61d8a9d4-f54a-4c0d-956c-fbc83c29c41f",
   "metadata": {},
   "outputs": [
    {
     "data": {
      "text/plain": [
       "array([36.50185176, 65.67861342, 22.69394132, 36.58516302, 43.33892774,\n",
       "       51.50236856, 81.45101249, 28.17031418, 56.7953339 , 63.90972577,\n",
       "       14.22698756, 65.28658152, 25.51769526, 15.91969496, 96.34858389,\n",
       "       97.87251501, 83.56415868, 37.71985299, 18.88816237, 72.26520541])"
      ]
     },
     "execution_count": 44,
     "metadata": {},
     "output_type": "execute_result"
    }
   ],
   "source": [
    "np.random.uniform(10,101,20)"
   ]
  },
  {
   "cell_type": "code",
   "execution_count": 46,
   "id": "9a4a9bc5-57a8-4603-9ad0-8f94d4ab1753",
   "metadata": {},
   "outputs": [
    {
     "data": {
      "text/plain": [
       "array([-1.02155219, -0.16175539, -0.5336488 , -0.00552786, -0.22945045,\n",
       "        0.38934891, -1.26511911,  1.09199226,  2.77831304,  1.19363972,\n",
       "        0.21863832,  0.88176104, -1.00908534, -1.58329421,  0.77370042,\n",
       "       -0.53814166, -1.3466781 , -0.88059127, -1.1305523 ,  0.13442888,\n",
       "        0.58212279,  0.88774846,  0.89433233,  0.7549978 , -0.20716589,\n",
       "       -0.62347739, -1.50815329,  1.09964698, -0.17773212, -0.41038331,\n",
       "        1.17971634, -0.89820794,  0.83479542,  0.29656138, -1.03782988,\n",
       "       -0.07580375,  0.97296353,  0.79559546,  1.49543425,  0.33818125,\n",
       "        3.37229625, -0.92039081, -0.39863839, -0.06086409, -1.41875046,\n",
       "        1.04249162,  0.90353249,  0.01900033, -0.53441645, -1.49505387,\n",
       "       -0.78925833,  0.74371128, -0.21216142, -0.42686879,  0.50144833,\n",
       "        1.15818665,  0.25711687,  0.3145129 ,  1.37186213,  0.17555329,\n",
       "       -0.30928855,  0.6731255 , -0.25663018, -0.36782572,  1.27373362,\n",
       "       -0.29195267, -2.65517605,  0.34551794, -0.39551645, -0.28913686,\n",
       "        0.45293633, -0.16606091,  0.21493883, -2.02231493, -0.94305681,\n",
       "        1.40395874, -0.0185508 , -1.67350462, -1.07253183, -0.99258618,\n",
       "        0.10234768, -0.43260928, -0.6591823 ,  0.0039373 ,  0.4777541 ,\n",
       "       -0.25902864, -0.57470921, -0.42149822,  0.33982096, -0.00738015,\n",
       "        0.76729684, -1.14979258, -0.77533611,  0.77314086, -0.80182784,\n",
       "        1.38401572,  1.40520531,  1.39232575, -0.88064082,  0.07689495])"
      ]
     },
     "execution_count": 46,
     "metadata": {},
     "output_type": "execute_result"
    }
   ],
   "source": [
    "#randn()- to get normal distribution data from given range\n",
    "np.random.randn(100)"
   ]
  },
  {
   "cell_type": "code",
   "execution_count": 52,
   "id": "36373d0b-8004-4385-bd28-4dc7171ea58b",
   "metadata": {},
   "outputs": [
    {
     "data": {
      "text/plain": [
       "[1, 6, 4, 5, 7, 2, 3]"
      ]
     },
     "execution_count": 52,
     "metadata": {},
     "output_type": "execute_result"
    }
   ],
   "source": [
    "#to get shuffled data from given array\n",
    "a=([1,2,3,4,5,6,7])\n",
    "np.random.shuffle(a)\n",
    "a"
   ]
  },
  {
   "cell_type": "code",
   "execution_count": null,
   "id": "9a83ca05-9c6c-4222-85e2-c3fa1e0a3fa3",
   "metadata": {},
   "outputs": [],
   "source": []
  },
  {
   "cell_type": "code",
   "execution_count": null,
   "id": "ef16b03f-42f0-45cb-8f94-a9ad5b437fa9",
   "metadata": {},
   "outputs": [],
   "source": []
  }
 ],
 "metadata": {
  "kernelspec": {
   "display_name": "Python 3 (ipykernel)",
   "language": "python",
   "name": "python3"
  },
  "language_info": {
   "codemirror_mode": {
    "name": "ipython",
    "version": 3
   },
   "file_extension": ".py",
   "mimetype": "text/x-python",
   "name": "python",
   "nbconvert_exporter": "python",
   "pygments_lexer": "ipython3",
   "version": "3.12.4"
  }
 },
 "nbformat": 4,
 "nbformat_minor": 5
}
