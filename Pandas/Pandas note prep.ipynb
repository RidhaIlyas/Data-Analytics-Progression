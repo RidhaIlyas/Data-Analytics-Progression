{
 "cells": [
  {
   "cell_type": "code",
   "execution_count": null,
   "id": "4975a054-e6c4-4089-9ff2-f9c787545b32",
   "metadata": {},
   "outputs": [],
   "source": [
    "Pandas\n",
    "also called panel data\n",
    "to handle heterogeneous data\n",
    "make in a table format for easy understanding and manipulation of data"
   ]
  },
  {
   "cell_type": "code",
   "execution_count": null,
   "id": "7fbaf51b-1e9e-4ff2-82ce-36484d7ce9e7",
   "metadata": {},
   "outputs": [],
   "source": []
  },
  {
   "cell_type": "markdown",
   "id": "3472ae24-70d3-4e76-8d6b-ccefc73f9c31",
   "metadata": {},
   "source": [
    "# Series- Creating"
   ]
  },
  {
   "cell_type": "code",
   "execution_count": null,
   "id": "7877811f-b3b2-4aba-94e3-259b5874f32b",
   "metadata": {},
   "outputs": [],
   "source": []
  },
  {
   "cell_type": "code",
   "execution_count": null,
   "id": "790326e6-a67b-4459-bb7c-6303e4ead117",
   "metadata": {},
   "outputs": [],
   "source": []
  },
  {
   "cell_type": "raw",
   "id": "476a4a59-8b6f-49be-9a1a-4eca3d31344a",
   "metadata": {},
   "source": [
    "\n",
    "    1. using list\n",
    "        pd.Series([3,4,5,33,6])\n",
    "    2. using numpy\n",
    "        b= np.array([1,2,3,4,5])\n",
    "        a=pd.Series(b)\n",
    "        a\n",
    "    3. using dictionaries\n",
    "        b={'0': 'zero','1':'one','2':'two','3':'three','4':'four','5':'five'}\n",
    "        pd.Series(b)\n",
    "    4. using scalar value\n",
    "        pd.Series(10,index=[0,1,2,3,4])"
   ]
  },
  {
   "cell_type": "markdown",
   "id": "b3d1b74f-2b27-4f0f-a8df-08c313b82162",
   "metadata": {},
   "source": [
    "# Declare Index Initially and access element"
   ]
  },
  {
   "cell_type": "code",
   "execution_count": null,
   "id": "4c2d41b6-4f87-4b11-a398-9e1f9a8849c4",
   "metadata": {},
   "outputs": [],
   "source": [
    "pd.Series([1,2,3,4,5],index=['a','b','c','d','e'])\n",
    "\n",
    "TO ACCESS\n",
    "1. data=pd.Series([1,2,3,4,5],index=['a','b','c','d','e'])\n",
    "      data[1] using the index number or\n",
    "      data[a] using the label\n",
    "      data[1:4] using index slicing\n",
    "      data['a':'b'] using label slicing\n",
    "2. using iloc\n",
    "      iloc uses index number to slice or access the data\n",
    "      data.iloc[1:4] slicing\n",
    "      data.iloc[4]\n",
    "      data[row1:row3,column1:column4] -to access the matrix- slicing \n",
    "3. using loc\n",
    "      loc uses labels to slice or access- loc doesnt access based on index number\n",
    "      data.loc['a':'b']\n",
    "      data.loc[1:4]\n",
    "      loc function counts even the last number provided\n",
    "      ie, in above example, 1,2,3 and 4 is accessed\n"
   ]
  },
  {
   "cell_type": "markdown",
   "id": "4f91b8dd-ba10-44e4-8c66-7d8f391dc51f",
   "metadata": {},
   "source": [
    "# Reindex"
   ]
  },
  {
   "cell_type": "code",
   "execution_count": null,
   "id": "6c851bae-b026-4102-aecf-33b2a0768af8",
   "metadata": {},
   "outputs": [],
   "source": []
  },
  {
   "cell_type": "markdown",
   "id": "4cef1212-d610-437a-a1fb-45d11bac8470",
   "metadata": {},
   "source": [
    "# Vector Operators"
   ]
  },
  {
   "cell_type": "code",
   "execution_count": null,
   "id": "32409389-50a5-49bf-8957-b2f1895790bb",
   "metadata": {},
   "outputs": [],
   "source": [
    "print(data*2)\n",
    "print(data+7)\n",
    "print(data-3)\n",
    "print(data/2)\n",
    "\n",
    "or\n",
    "in case of multiple data\n",
    "\n",
    "print(data1+data2)\n",
    "print(data1*data2)\n",
    "print(data1-data2)\n",
    "print(data1/data2)\n"
   ]
  },
  {
   "cell_type": "markdown",
   "id": "e8224d1d-4e63-43f8-96b7-652624f1dea3",
   "metadata": {},
   "source": [
    "# Mathematical operations"
   ]
  },
  {
   "cell_type": "code",
   "execution_count": null,
   "id": "322691b3-9887-437d-a238-c0930039a3ec",
   "metadata": {},
   "outputs": [],
   "source": [
    "add()- add series or list like object with same length\n",
    "sub()-subtract series or list like object with same length\n",
    "mul()- multiply series or list like objects with same length\n",
    "div()- divide series or list like objects with same length\n",
    "sum()- sum of values for requested axis\n",
    "prod()-product of values for requested axis\n",
    "mean()- mean values\n",
    "abs()- to get absolute numeric value of each element in series/dataframe\n",
    "cov()- to find covariance of two series\n",
    "                 "
   ]
  },
  {
   "cell_type": "markdown",
   "id": "81d555d1-3c6b-442a-807d-b1c95a6168a5",
   "metadata": {},
   "source": [
    "# Null Value Manipulations"
   ]
  },
  {
   "cell_type": "markdown",
   "id": "0548bc66-5993-40f0-b257-81fb2c569c94",
   "metadata": {},
   "source": [
    "1.isnull()- to check if null\n",
    "    data.isnull()\n",
    "2.isna()- to check if null\n",
    "    data.isnull()\n",
    "3.fillna()- to fill a null value\n",
    "    data.fillna()\n",
    "4.dropna()- to drop null value\n",
    "    data.dropna()"
   ]
  },
  {
   "cell_type": "markdown",
   "id": "afd1b3d7-8973-4d37-b809-b4ead35d51af",
   "metadata": {},
   "source": [
    "# DataFrame"
   ]
  },
  {
   "cell_type": "markdown",
   "id": "841a0731-ed77-4e49-a81a-38ad2a91159f",
   "metadata": {},
   "source": [
    "A Data frame is a two-dimensional data structure, \n",
    "i.e., data is aligned in a tabular fashion in rows and columns. \n",
    "Pandas DataFrame consists of three principal components, the data, rows, and columns.\n"
   ]
  },
  {
   "cell_type": "code",
   "execution_count": null,
   "id": "56b0733a-5b38-4be7-8195-4d6215f99f81",
   "metadata": {},
   "outputs": [],
   "source": []
  }
 ],
 "metadata": {
  "kernelspec": {
   "display_name": "Python 3 (ipykernel)",
   "language": "python",
   "name": "python3"
  },
  "language_info": {
   "codemirror_mode": {
    "name": "ipython",
    "version": 3
   },
   "file_extension": ".py",
   "mimetype": "text/x-python",
   "name": "python",
   "nbconvert_exporter": "python",
   "pygments_lexer": "ipython3",
   "version": "3.12.4"
  }
 },
 "nbformat": 4,
 "nbformat_minor": 5
}
