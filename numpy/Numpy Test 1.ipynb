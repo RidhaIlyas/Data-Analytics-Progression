{
 "cells": [
  {
   "cell_type": "markdown",
   "id": "3c1097b4-4389-4466-95e3-adf1c5582b9d",
   "metadata": {},
   "source": [
    "# TASK ONE"
   ]
  },
  {
   "cell_type": "code",
   "execution_count": null,
   "id": "a24b218b-8201-4b1a-a474-5972b104405d",
   "metadata": {},
   "outputs": [],
   "source": [
    "import numpy as np"
   ]
  },
  {
   "cell_type": "raw",
   "id": "fe8abef8-26c3-4a64-85f0-a3cfb08efc34",
   "metadata": {
    "jp-MarkdownHeadingCollapsed": true
   },
   "source": [
    "Question 1\n",
    "1D is a collection of zero dimension whereas 2D and 3D are collection of 1D and 2D respectively"
   ]
  },
  {
   "cell_type": "raw",
   "id": "d292f8b8-174e-4fbe-9553-e49451364440",
   "metadata": {},
   "source": [
    "Question 2\n",
    "arrays store homogeneous data whereas lists may contain heterogeneous data\n",
    "arrays have continuous memory location making it faster than lists\n",
    "item wise operations are possible in arrays"
   ]
  },
  {
   "cell_type": "code",
   "execution_count": 10,
   "id": "679eb575-6617-4fa0-85e1-6fb1719a6156",
   "metadata": {},
   "outputs": [
    {
     "name": "stdout",
     "output_type": "stream",
     "text": [
      "44\n"
     ]
    }
   ],
   "source": [
    "Question 3\n",
    "give an array and print the index number\n",
    "a=([12,3,3,44,5])\n",
    "print(a[3])"
   ]
  },
  {
   "cell_type": "code",
   "execution_count": 18,
   "id": "bf614fe8-dca2-4d95-b4ce-78ca8d3f0d0f",
   "metadata": {},
   "outputs": [
    {
     "data": {
      "text/plain": [
       "array([ 0,  1,  2,  3,  4,  5,  6,  7,  8,  9, 10, 11, 12, 13, 14, 15, 16,\n",
       "       17, 18, 19])"
      ]
     },
     "execution_count": 18,
     "metadata": {},
     "output_type": "execute_result"
    }
   ],
   "source": [
    "import numpy as np\n",
    "Question 4\n",
    "use arange() function\n",
    "np.arange(0,20)"
   ]
  },
  {
   "cell_type": "code",
   "execution_count": 24,
   "id": "a4625ce9-036a-4d84-8870-4f18f4c25baa",
   "metadata": {},
   "outputs": [
    {
     "ename": "ValueError",
     "evalue": "cannot reshape array of size 5 into shape (2,3)",
     "output_type": "error",
     "traceback": [
      "\u001b[1;31m---------------------------------------------------------------------------\u001b[0m",
      "\u001b[1;31mValueError\u001b[0m                                Traceback (most recent call last)",
      "Cell \u001b[1;32mIn[24], line 3\u001b[0m\n\u001b[0;32m      1\u001b[0m \u001b[38;5;66;03m#Question 5\u001b[39;00m\n\u001b[0;32m      2\u001b[0m a\u001b[38;5;241m=\u001b[39mnp\u001b[38;5;241m.\u001b[39marray([\u001b[38;5;241m1\u001b[39m,\u001b[38;5;241m2\u001b[39m,\u001b[38;5;241m3\u001b[39m,\u001b[38;5;241m4\u001b[39m,\u001b[38;5;241m5\u001b[39m])\n\u001b[1;32m----> 3\u001b[0m a\u001b[38;5;241m.\u001b[39mreshape(\u001b[38;5;241m2\u001b[39m,\u001b[38;5;241m3\u001b[39m)\n",
      "\u001b[1;31mValueError\u001b[0m: cannot reshape array of size 5 into shape (2,3)"
     ]
    }
   ],
   "source": [
    "Question 5\n",
    "a=np.array([1,2,3,4,5])\n",
    "a.reshape(2,3)\n",
    "the error printed would be that the array cannot be reshaped into (2,3)"
   ]
  },
  {
   "cell_type": "code",
   "execution_count": 28,
   "id": "e4f24a3d-ec3f-487f-b6ac-159ad2b8d552",
   "metadata": {},
   "outputs": [
    {
     "name": "stdout",
     "output_type": "stream",
     "text": [
      "30\n"
     ]
    }
   ],
   "source": [
    "Question 6\n",
    "arr=np.array([10,20,30,40,50])\n",
    "print (arr[2])"
   ]
  },
  {
   "cell_type": "code",
   "execution_count": 36,
   "id": "406227d6-95fd-400a-8dd9-6d01811420ea",
   "metadata": {},
   "outputs": [
    {
     "name": "stdout",
     "output_type": "stream",
     "text": [
      "4\n"
     ]
    }
   ],
   "source": [
    "Question 7\n",
    "a=np.array([[[1,2,3],[5,4,6],[6,2,1]],[[4,3,5],[7,5,6],[2,1,4]],[[8,9,0],[3,4,5],[5,7,9]]])\n",
    "print (a[1,2,2])"
   ]
  },
  {
   "cell_type": "code",
   "execution_count": 44,
   "id": "8dd1d293-e97d-4e4f-9ba7-614cdc620b7b",
   "metadata": {},
   "outputs": [
    {
     "data": {
      "text/plain": [
       "2"
      ]
     },
     "execution_count": 44,
     "metadata": {},
     "output_type": "execute_result"
    }
   ],
   "source": [
    "Question 8\n",
    "a=np.array([[1,2,3],[4,5,6]])\n",
    "a.ndim"
   ]
  },
  {
   "cell_type": "code",
   "execution_count": 50,
   "id": "eace8540-134a-4c09-b682-eabf235357ed",
   "metadata": {},
   "outputs": [
    {
     "name": "stdout",
     "output_type": "stream",
     "text": [
      "5\n"
     ]
    }
   ],
   "source": [
    "Question 9\n",
    "arr=np.array([[1,2,3],[9,7,5]])\n",
    "print(arr[1,2])"
   ]
  },
  {
   "cell_type": "code",
   "execution_count": 9,
   "id": "4136d424-f795-4000-9957-68e3c529477b",
   "metadata": {},
   "outputs": [
    {
     "name": "stdout",
     "output_type": "stream",
     "text": [
      "[[[[[[1 2 3 4]\n",
      "     [5 6 7 8]]]]]]\n",
      "(1, 1, 1, 1, 2, 4)\n"
     ]
    }
   ],
   "source": [
    "# Question 10\n",
    "arr=np.array([[1,2,3,4],[5,6,7,8]], ndmin=6)\n",
    "# arr.reshape(2,4)\n",
    "print(arr)\n",
    "\n",
    "print(arr.shape)"
   ]
  },
  {
   "cell_type": "code",
   "execution_count": 84,
   "id": "cbbe2513-ec78-4da9-aedf-d0b188133d3f",
   "metadata": {},
   "outputs": [
    {
     "data": {
      "text/plain": [
       "array([  1,   2,   3,   4, 100])"
      ]
     },
     "execution_count": 84,
     "metadata": {},
     "output_type": "execute_result"
    }
   ],
   "source": [
    "#Question 11\n",
    "arr=np.array([1,2,3,4,5])\n",
    "arr[-1]=100\n",
    "arr\n"
   ]
  },
  {
   "cell_type": "code",
   "execution_count": 15,
   "id": "53c7c378-0b36-4291-8a8e-da0deb4ee423",
   "metadata": {},
   "outputs": [
    {
     "name": "stdout",
     "output_type": "stream",
     "text": [
      "[False  True False  True False  True False  True False]\n",
      "[2 4 6 8]\n"
     ]
    }
   ],
   "source": [
    "#Question 12\n",
    "arr1=np.array([1,2,3,4,5,6,7,8,9])\n",
    "# arr2=np.where(a%2==0)\n",
    "# arr2\n",
    "arr2=arr1%2==0\n",
    "print(arr2)\n",
    "print(arr1[arr2])"
   ]
  },
  {
   "cell_type": "code",
   "execution_count": 102,
   "id": "2ca814d3-f3f2-45f8-8dec-3c6399fff240",
   "metadata": {},
   "outputs": [
    {
     "name": "stdout",
     "output_type": "stream",
     "text": [
      "3\n"
     ]
    }
   ],
   "source": [
    "#Question 13\n",
    "a=np.array([1,2,3,4,5])\n",
    "print(a[2])"
   ]
  },
  {
   "cell_type": "code",
   "execution_count": 11,
   "id": "2068c247-3c1b-4571-96d9-583d08242a8a",
   "metadata": {},
   "outputs": [
    {
     "name": "stdout",
     "output_type": "stream",
     "text": [
      "[-3 -3  3  4  5]\n"
     ]
    },
    {
     "data": {
      "text/plain": [
       "array([ 1,  2,  3,  4,  5,  6,  7,  8,  9, 10])"
      ]
     },
     "execution_count": 11,
     "metadata": {},
     "output_type": "execute_result"
    }
   ],
   "source": [
    "Question 14\n",
    "import numpy as np\n",
    "a=np.array([1,2,3,4,5])\n",
    "b=np.array([6,7,8,9,10])\n",
    "c=np.where (a<3,-3,a)\n",
    "print(c)\n",
    "np.hstack((a,b))"
   ]
  },
  {
   "cell_type": "code",
   "execution_count": 3,
   "id": "5b681d22-a389-4e44-80cf-c95f8a0afa5a",
   "metadata": {},
   "outputs": [
    {
     "data": {
      "text/plain": [
       "array([5.5, 6. , 6.5, 7. , 7.5, 8. , 8.5, 9. , 9.5])"
      ]
     },
     "execution_count": 3,
     "metadata": {},
     "output_type": "execute_result"
    }
   ],
   "source": [
    "#Question 15\n",
    "import numpy as np\n",
    "a=np.arange(0,10,0.5)\n",
    "b=[]\n",
    "for i in a:\n",
    "    if i<=5:\n",
    "        b.append(False)\n",
    "    else:\n",
    "        b.append(True)\n",
    "c=a[b]\n",
    "c"
   ]
  },
  {
   "cell_type": "code",
   "execution_count": null,
   "id": "d163b252-7d40-40eb-bef7-3560b4dfa41d",
   "metadata": {},
   "outputs": [],
   "source": []
  }
 ],
 "metadata": {
  "kernelspec": {
   "display_name": "Python 3 (ipykernel)",
   "language": "python",
   "name": "python3"
  },
  "language_info": {
   "codemirror_mode": {
    "name": "ipython",
    "version": 3
   },
   "file_extension": ".py",
   "mimetype": "text/x-python",
   "name": "python",
   "nbconvert_exporter": "python",
   "pygments_lexer": "ipython3",
   "version": "3.12.4"
  }
 },
 "nbformat": 4,
 "nbformat_minor": 5
}
