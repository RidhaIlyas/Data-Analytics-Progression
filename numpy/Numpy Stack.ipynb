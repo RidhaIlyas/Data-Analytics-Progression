{
 "cells": [
  {
   "cell_type": "code",
   "execution_count": null,
   "id": "5bb827f0-d3a8-4119-b2ac-4c71bff5b143",
   "metadata": {},
   "outputs": [],
   "source": [
    "NUMPY STACK\n",
    "Numpy’s stack function is used to stack/join arrays along a new axis. In simple words, it is combining multiple arrays along a new axis to create a single array. This is different from concatenation, which joins arrays end-to-end along an existing axis. \n",
    "The main objective of stack would involve the efficient joining of several arrays into a single larger array which is useful when working with multiple pieces of data as a whole unit, it would also introduce a new dimension to the resulting array which would in a way help organize the combined data.\n",
    "STACK VS CONCATENATION\n",
    "•\tStack: Imagine stacking plates on top of each other. Each plate represents an array, and the stack creates a new dimension (height) to organize them.\n",
    "•\tConcatenation: Imagine placing plates side-by-side on a table. You're joining them along an existing dimension (length of the table).\n",
    "CHOOSING BETWEEN STACK AND CONCATENATION:\n",
    "The choice depends on your desired outcome:\n",
    "•\tIf you want to combine arrays with a new level of organization, use stack.\n",
    "•\tIf you simply want to join arrays along an existing dimension, use concatenate.\n",
    "\n"
   ]
  },
  {
   "cell_type": "code",
   "execution_count": 1,
   "id": "ef80e053-09cf-4a9e-bf49-117d66cf0f53",
   "metadata": {},
   "outputs": [
    {
     "name": "stdout",
     "output_type": "stream",
     "text": [
      "[[1 2 3]\n",
      " [4 5 6]\n",
      " [7 8 9]]\n",
      "[[1 4 7]\n",
      " [2 5 8]\n",
      " [3 6 9]]\n"
     ]
    }
   ],
   "source": [
    "import numpy as np\n",
    "\n",
    "#STACKING OF 1D ARRAY\n",
    "\n",
    "array1 = np.array([1, 2, 3])\n",
    "array2 = np.array([4, 5, 6])\n",
    "array3 = np.array([7, 8, 9])\n",
    "\n",
    "stacked_1d_axis0 = np.stack((array1, array2, array3), axis=0)\n",
    "print(stacked_1d_axis0)\n",
    "\n",
    "stacked_1d_axis1 = np.stack((array1, array2, array3), axis=1)\n",
    "print(stacked_1d_axis1)"
   ]
  },
  {
   "cell_type": "code",
   "execution_count": 3,
   "id": "ebff7781-fbb0-45c6-9637-6b4e9a0d8539",
   "metadata": {},
   "outputs": [
    {
     "name": "stdout",
     "output_type": "stream",
     "text": [
      "[[[ 1  2]\n",
      "  [ 3  4]]\n",
      "\n",
      " [[ 5  6]\n",
      "  [ 7  8]]\n",
      "\n",
      " [[ 9 10]\n",
      "  [11 12]]]\n",
      "[[[ 1  2]\n",
      "  [ 5  6]\n",
      "  [ 9 10]]\n",
      "\n",
      " [[ 3  4]\n",
      "  [ 7  8]\n",
      "  [11 12]]]\n"
     ]
    }
   ],
   "source": [
    "#STACKING OF 2D ARRAY\n",
    "array1 = np.array([[1, 2], [3, 4]])\n",
    "array2 = np.array([[5, 6], [7, 8]])\n",
    "array3 = np.array([[9, 10], [11, 12]])\n",
    "\n",
    "stacked_2d_axis0 = np.stack((array1, array2, array3), axis=0)\n",
    "print(stacked_2d_axis0)\n",
    "\n",
    "stacked_2d_axis1 = np.stack((array1, array2, array3), axis=1)\n",
    "print(stacked_2d_axis1)\n",
    "\n"
   ]
  },
  {
   "cell_type": "code",
   "execution_count": 7,
   "id": "8f0b52f5-55db-41ad-859b-2cd7814ddcbe",
   "metadata": {},
   "outputs": [
    {
     "name": "stdout",
     "output_type": "stream",
     "text": [
      "[[[[ 1  2]\n",
      "   [ 3  4]]\n",
      "\n",
      "  [[ 5  6]\n",
      "   [ 7  8]]]\n",
      "\n",
      "\n",
      " [[[ 9 10]\n",
      "   [11 12]]\n",
      "\n",
      "  [[13 14]\n",
      "   [15 16]]]\n",
      "\n",
      "\n",
      " [[[17 18]\n",
      "   [19 20]]\n",
      "\n",
      "  [[21 22]\n",
      "   [23 24]]]]\n",
      "[[[[ 1  2]\n",
      "   [ 3  4]]\n",
      "\n",
      "  [[ 9 10]\n",
      "   [11 12]]\n",
      "\n",
      "  [[17 18]\n",
      "   [19 20]]]\n",
      "\n",
      "\n",
      " [[[ 5  6]\n",
      "   [ 7  8]]\n",
      "\n",
      "  [[13 14]\n",
      "   [15 16]]\n",
      "\n",
      "  [[21 22]\n",
      "   [23 24]]]]\n"
     ]
    }
   ],
   "source": [
    "#STACKING OF 3D ARRAY\n",
    "array1 = np.array([[[1, 2], [3, 4]], [[5, 6], [7, 8]]])\n",
    "array2 = np.array([[[9, 10], [11, 12]], [[13, 14], [15, 16]]])\n",
    "array3 = np.array([[[17, 18], [19, 20]], [[21, 22], [23, 24]]])\n",
    "\n",
    "\n",
    "stacked_3d_axis0 = np.stack((array1, array2, array3), axis=0)\n",
    "print( stacked_3d_axis0)\n",
    "\n",
    "stacked_3d_axis1 = np.stack((array1, array2, array3), axis=1)\n",
    "print( stacked_3d_axis1)\n",
    "\n"
   ]
  },
  {
   "cell_type": "code",
   "execution_count": null,
   "id": "256b95c8-f0b7-4bff-85b4-98268a5fc2ad",
   "metadata": {},
   "outputs": [],
   "source": [
    "vstack (vertical stack):\n",
    "\n",
    "    It stacks arrays vertically, like placing them on top of each other."
   ]
  },
  {
   "cell_type": "code",
   "execution_count": 15,
   "id": "5e9aab03-7018-44b0-88f9-0bfdd47f364d",
   "metadata": {},
   "outputs": [
    {
     "data": {
      "text/plain": [
       "array([[1, 2, 3],\n",
       "       [4, 5, 6]])"
      ]
     },
     "execution_count": 15,
     "metadata": {},
     "output_type": "execute_result"
    }
   ],
   "source": [
    "import numpy as np\n",
    "#1D example\n",
    "a = np.array([1, 2, 3])\n",
    "b = np.array([4, 5, 6])\n",
    "c=np.vstack ((a,b))\n",
    "c"
   ]
  },
  {
   "cell_type": "code",
   "execution_count": 17,
   "id": "276f084a-1aba-4ba4-963f-fa6784eafa33",
   "metadata": {},
   "outputs": [
    {
     "data": {
      "text/plain": [
       "array([[ 1,  2,  3],\n",
       "       [ 4,  5,  6],\n",
       "       [ 7,  8,  9],\n",
       "       [10, 11, 12]])"
      ]
     },
     "execution_count": 17,
     "metadata": {},
     "output_type": "execute_result"
    }
   ],
   "source": [
    "#2D example\n",
    "a = np.array([[1, 2, 3], [4, 5, 6]])\n",
    "\n",
    "b = np.array([[7, 8, 9],[10, 11, 12]])\n",
    "c=np.vstack((a,b))\n",
    "c"
   ]
  },
  {
   "cell_type": "code",
   "execution_count": 19,
   "id": "24e43fd9-2fe8-4e76-95c8-caadbf2bca8d",
   "metadata": {},
   "outputs": [
    {
     "data": {
      "text/plain": [
       "array([[[ 1,  2,  3],\n",
       "        [ 4,  5,  6]],\n",
       "\n",
       "       [[ 7,  8,  9],\n",
       "        [10, 11, 12]],\n",
       "\n",
       "       [[13, 14, 15],\n",
       "        [16, 17, 18]],\n",
       "\n",
       "       [[19, 20, 21],\n",
       "        [22, 23, 24]]])"
      ]
     },
     "execution_count": 19,
     "metadata": {},
     "output_type": "execute_result"
    }
   ],
   "source": [
    "#3D example\n",
    "\n",
    "a = np.array([[[1, 2, 3],[4, 5, 6]],[[7, 8, 9],[10, 11, 12]]])\n",
    "\n",
    "b = np.array([[[13, 14, 15],[16, 17, 18]],[[19, 20, 21],[22, 23, 24]]])\n",
    "c= np.vstack ((a,b))\n",
    "c"
   ]
  },
  {
   "cell_type": "code",
   "execution_count": null,
   "id": "a395254b-7b92-49b3-bd18-e43c53e48712",
   "metadata": {},
   "outputs": [],
   "source": [
    "hstack (horizontal stack):\n",
    "\n",
    "    It stacks arrays horizontally, like placing them side by side."
   ]
  },
  {
   "cell_type": "code",
   "execution_count": 21,
   "id": "354d286f-8675-4bd9-a1b5-89e5d17eeccb",
   "metadata": {},
   "outputs": [
    {
     "data": {
      "text/plain": [
       "array([1, 2, 3, 4, 5, 6])"
      ]
     },
     "execution_count": 21,
     "metadata": {},
     "output_type": "execute_result"
    }
   ],
   "source": [
    "#1D example\n",
    "a = np.array([1, 2, 3])\n",
    "b = np.array([4, 5, 6])\n",
    "c=np.hstack ((a,b))\n",
    "c"
   ]
  },
  {
   "cell_type": "code",
   "execution_count": 23,
   "id": "fd3b761b-7e85-47a7-b88f-92549474944b",
   "metadata": {},
   "outputs": [
    {
     "data": {
      "text/plain": [
       "array([[ 1,  2,  3,  7,  8,  9],\n",
       "       [ 4,  5,  6, 10, 11, 12]])"
      ]
     },
     "execution_count": 23,
     "metadata": {},
     "output_type": "execute_result"
    }
   ],
   "source": [
    "#2D example\n",
    "a = np.array([[1, 2, 3],[4, 5, 6]])\n",
    "\n",
    "b = np.array([[7, 8, 9],[10, 11, 12]])\n",
    "c=np.hstack((a,b))\n",
    "c"
   ]
  },
  {
   "cell_type": "code",
   "execution_count": 3,
   "id": "b4b3d0d2-74db-4073-bd0c-a7a8a4582edd",
   "metadata": {},
   "outputs": [
    {
     "data": {
      "text/plain": [
       "array([[[ 1,  2,  3],\n",
       "        [ 4,  5,  6],\n",
       "        [13, 14, 15],\n",
       "        [16, 17, 18]],\n",
       "\n",
       "       [[ 7,  8,  9],\n",
       "        [10, 11, 12],\n",
       "        [19, 20, 21],\n",
       "        [22, 23, 24]]])"
      ]
     },
     "execution_count": 3,
     "metadata": {},
     "output_type": "execute_result"
    }
   ],
   "source": [
    "#3D example\n",
    "import numpy as np\n",
    "a = np.array([[[1, 2, 3],[4, 5, 6]],[[7, 8, 9],[10, 11, 12]]])\n",
    "\n",
    "b = np.array([[[13, 14, 15],[16, 17, 18]],[[19, 20, 21],[22, 23, 24]]])\n",
    "c= np.hstack ((a,b))\n",
    "c"
   ]
  },
  {
   "cell_type": "code",
   "execution_count": 23,
   "id": "ec4e5ebf-1e32-44da-b5d3-4ccbc68ff83c",
   "metadata": {},
   "outputs": [
    {
     "name": "stdout",
     "output_type": "stream",
     "text": [
      "Requirement already satisfied: nbconvert in c:\\users\\acer\\anaconda3\\lib\\site-packages (7.10.0)\n",
      "Requirement already satisfied: beautifulsoup4 in c:\\users\\acer\\anaconda3\\lib\\site-packages (from nbconvert) (4.12.3)\n",
      "Requirement already satisfied: bleach!=5.0.0 in c:\\users\\acer\\anaconda3\\lib\\site-packages (from nbconvert) (4.1.0)\n",
      "Requirement already satisfied: defusedxml in c:\\users\\acer\\anaconda3\\lib\\site-packages (from nbconvert) (0.7.1)\n",
      "Requirement already satisfied: jinja2>=3.0 in c:\\users\\acer\\anaconda3\\lib\\site-packages (from nbconvert) (3.1.4)\n",
      "Requirement already satisfied: jupyter-core>=4.7 in c:\\users\\acer\\anaconda3\\lib\\site-packages (from nbconvert) (5.7.2)\n",
      "Requirement already satisfied: jupyterlab-pygments in c:\\users\\acer\\anaconda3\\lib\\site-packages (from nbconvert) (0.1.2)\n",
      "Requirement already satisfied: markupsafe>=2.0 in c:\\users\\acer\\anaconda3\\lib\\site-packages (from nbconvert) (2.1.3)\n",
      "Requirement already satisfied: mistune<4,>=2.0.3 in c:\\users\\acer\\anaconda3\\lib\\site-packages (from nbconvert) (2.0.4)\n",
      "Requirement already satisfied: nbclient>=0.5.0 in c:\\users\\acer\\anaconda3\\lib\\site-packages (from nbconvert) (0.8.0)\n",
      "Requirement already satisfied: nbformat>=5.7 in c:\\users\\acer\\anaconda3\\lib\\site-packages (from nbconvert) (5.9.2)\n",
      "Requirement already satisfied: packaging in c:\\users\\acer\\anaconda3\\lib\\site-packages (from nbconvert) (23.2)\n",
      "Requirement already satisfied: pandocfilters>=1.4.1 in c:\\users\\acer\\anaconda3\\lib\\site-packages (from nbconvert) (1.5.0)\n",
      "Requirement already satisfied: pygments>=2.4.1 in c:\\users\\acer\\anaconda3\\lib\\site-packages (from nbconvert) (2.15.1)\n",
      "Requirement already satisfied: tinycss2 in c:\\users\\acer\\anaconda3\\lib\\site-packages (from nbconvert) (1.2.1)\n",
      "Requirement already satisfied: traitlets>=5.1 in c:\\users\\acer\\anaconda3\\lib\\site-packages (from nbconvert) (5.14.3)\n",
      "Requirement already satisfied: six>=1.9.0 in c:\\users\\acer\\anaconda3\\lib\\site-packages (from bleach!=5.0.0->nbconvert) (1.16.0)\n",
      "Requirement already satisfied: webencodings in c:\\users\\acer\\anaconda3\\lib\\site-packages (from bleach!=5.0.0->nbconvert) (0.5.1)\n",
      "Requirement already satisfied: platformdirs>=2.5 in c:\\users\\acer\\anaconda3\\lib\\site-packages (from jupyter-core>=4.7->nbconvert) (3.10.0)\n",
      "Requirement already satisfied: pywin32>=300 in c:\\users\\acer\\anaconda3\\lib\\site-packages (from jupyter-core>=4.7->nbconvert) (305.1)\n",
      "Requirement already satisfied: jupyter-client>=6.1.12 in c:\\users\\acer\\anaconda3\\lib\\site-packages (from nbclient>=0.5.0->nbconvert) (8.6.0)\n",
      "Requirement already satisfied: fastjsonschema in c:\\users\\acer\\anaconda3\\lib\\site-packages (from nbformat>=5.7->nbconvert) (2.16.2)\n",
      "Requirement already satisfied: jsonschema>=2.6 in c:\\users\\acer\\anaconda3\\lib\\site-packages (from nbformat>=5.7->nbconvert) (4.19.2)\n",
      "Requirement already satisfied: soupsieve>1.2 in c:\\users\\acer\\anaconda3\\lib\\site-packages (from beautifulsoup4->nbconvert) (2.5)\n",
      "Requirement already satisfied: attrs>=22.2.0 in c:\\users\\acer\\anaconda3\\lib\\site-packages (from jsonschema>=2.6->nbformat>=5.7->nbconvert) (23.1.0)\n",
      "Requirement already satisfied: jsonschema-specifications>=2023.03.6 in c:\\users\\acer\\anaconda3\\lib\\site-packages (from jsonschema>=2.6->nbformat>=5.7->nbconvert) (2023.7.1)\n",
      "Requirement already satisfied: referencing>=0.28.4 in c:\\users\\acer\\anaconda3\\lib\\site-packages (from jsonschema>=2.6->nbformat>=5.7->nbconvert) (0.30.2)\n",
      "Requirement already satisfied: rpds-py>=0.7.1 in c:\\users\\acer\\anaconda3\\lib\\site-packages (from jsonschema>=2.6->nbformat>=5.7->nbconvert) (0.10.6)\n",
      "Requirement already satisfied: python-dateutil>=2.8.2 in c:\\users\\acer\\anaconda3\\lib\\site-packages (from jupyter-client>=6.1.12->nbclient>=0.5.0->nbconvert) (2.9.0.post0)\n",
      "Requirement already satisfied: pyzmq>=23.0 in c:\\users\\acer\\anaconda3\\lib\\site-packages (from jupyter-client>=6.1.12->nbclient>=0.5.0->nbconvert) (25.1.2)\n",
      "Requirement already satisfied: tornado>=6.2 in c:\\users\\acer\\anaconda3\\lib\\site-packages (from jupyter-client>=6.1.12->nbclient>=0.5.0->nbconvert) (6.4.1)\n"
     ]
    }
   ],
   "source": [
    "!pip install nbconvert"
   ]
  },
  {
   "cell_type": "code",
   "execution_count": 25,
   "id": "7dda6a5a-b616-4852-a755-7f1a487ce4c5",
   "metadata": {},
   "outputs": [
    {
     "ename": "SyntaxError",
     "evalue": "invalid syntax (3785494031.py, line 1)",
     "output_type": "error",
     "traceback": [
      "\u001b[1;36m  Cell \u001b[1;32mIn[25], line 1\u001b[1;36m\u001b[0m\n\u001b[1;33m    jupyter nbconvert --to pdf Numpy Stack.ipynb\u001b[0m\n\u001b[1;37m            ^\u001b[0m\n\u001b[1;31mSyntaxError\u001b[0m\u001b[1;31m:\u001b[0m invalid syntax\n"
     ]
    }
   ],
   "source": [
    "! jupyter nbconvert --to pdf Numpy Stack.ipynb"
   ]
  },
  {
   "cell_type": "code",
   "execution_count": null,
   "id": "c8bfad80-7ca3-4ddd-92a2-9cc6542a78be",
   "metadata": {},
   "outputs": [],
   "source": []
  }
 ],
 "metadata": {
  "kernelspec": {
   "display_name": "Python 3 (ipykernel)",
   "language": "python",
   "name": "python3"
  },
  "language_info": {
   "codemirror_mode": {
    "name": "ipython",
    "version": 3
   },
   "file_extension": ".py",
   "mimetype": "text/x-python",
   "name": "python",
   "nbconvert_exporter": "python",
   "pygments_lexer": "ipython3",
   "version": "3.12.4"
  }
 },
 "nbformat": 4,
 "nbformat_minor": 5
}
