{
 "cells": [
  {
   "cell_type": "code",
   "execution_count": 5,
   "id": "5b38221a-d21b-42d2-ae66-c543343d6325",
   "metadata": {},
   "outputs": [],
   "source": [
    "import numpy as np\n"
   ]
  },
  {
   "cell_type": "code",
   "execution_count": 13,
   "id": "4ca563be-e0a5-4e15-830a-ba443f08b644",
   "metadata": {},
   "outputs": [
    {
     "name": "stdout",
     "output_type": "stream",
     "text": [
      "[21 14 10 48 17 10 43 31 20 10 46 45 22 20 20 18 36 14 14 49 39 32 20 20]\n"
     ]
    },
    {
     "data": {
      "text/plain": [
       "array([[[21, 14, 10, 48],\n",
       "        [17, 10, 43, 31],\n",
       "        [20, 10, 46, 45]],\n",
       "\n",
       "       [[22, 20, 20, 18],\n",
       "        [36, 14, 14, 49],\n",
       "        [39, 32, 20, 20]]])"
      ]
     },
     "execution_count": 13,
     "metadata": {},
     "output_type": "execute_result"
    }
   ],
   "source": [
    "#question 1\n",
    "arr=np.random.randint (10,50,24)\n",
    "print(arr)\n",
    "arr.reshape(2,3,4)"
   ]
  },
  {
   "cell_type": "code",
   "execution_count": 9,
   "id": "e55804c9-25be-409e-b418-12c7780a4041",
   "metadata": {},
   "outputs": [
    {
     "name": "stdout",
     "output_type": "stream",
     "text": [
      "[5 7 9]\n",
      "[-3 -3 -3]\n",
      "[ 4 10 18]\n",
      "[0.25 0.4  0.5 ]\n"
     ]
    }
   ],
   "source": [
    "import numpy as np\n",
    "\n",
    "#Question 2\n",
    "a=np.array([1,2,3])\n",
    "b=np.array([4,5,6])\n",
    "print(np.add (a,b))\n",
    "print(np.subtract (a,b))\n",
    "print(np.multiply(a,b))\n",
    "print(np.divide(a,b))"
   ]
  },
  {
   "cell_type": "code",
   "execution_count": 15,
   "id": "799b6ac9-b195-4d1a-9793-cb1c53bf2733",
   "metadata": {},
   "outputs": [
    {
     "data": {
      "text/plain": [
       "array([[1, 1, 1],\n",
       "       [1, 1, 1],\n",
       "       [1, 1, 1]])"
      ]
     },
     "execution_count": 15,
     "metadata": {},
     "output_type": "execute_result"
    }
   ],
   "source": [
    "Question 3\n",
    "a=np.ones((3,3),dtype='int')\n",
    "a"
   ]
  },
  {
   "cell_type": "code",
   "execution_count": 21,
   "id": "86b6d862-95a0-485c-beb5-2ca1f12af5c7",
   "metadata": {},
   "outputs": [
    {
     "data": {
      "text/plain": [
       "array([1, 2, 3, 4, 5, 6, 7, 8, 9])"
      ]
     },
     "execution_count": 21,
     "metadata": {},
     "output_type": "execute_result"
    }
   ],
   "source": [
    "#Question 4\n",
    "a=np.array([1,2,3,4,5,6,7,8,9])\n",
    "a.reshape(3,3)\n",
    "a.reshape(-1)"
   ]
  },
  {
   "cell_type": "code",
   "execution_count": 27,
   "id": "21fe03f0-caf0-4056-8e81-271d79427244",
   "metadata": {},
   "outputs": [
    {
     "data": {
      "text/plain": [
       "(array([[1, 2],\n",
       "        [3, 4],\n",
       "        [5, 6],\n",
       "        [7, 8]]),\n",
       " array([[1, 2, 5, 6],\n",
       "        [3, 4, 7, 8]]))"
      ]
     },
     "execution_count": 27,
     "metadata": {},
     "output_type": "execute_result"
    }
   ],
   "source": [
    "#Question 5\n",
    "a=np.array([[1,2],[3,4]])\n",
    "b=np.array([[5,6],[7,8]])\n",
    "c=np.vstack ((a,b))\n",
    "d=np.hstack((a,b))\n",
    "c,d"
   ]
  },
  {
   "cell_type": "code",
   "execution_count": 35,
   "id": "dee70d7a-df04-404f-875d-16c741ef5c1a",
   "metadata": {},
   "outputs": [
    {
     "data": {
      "text/plain": [
       "[array([1, 2, 3, 4, 5]), array([ 6,  7,  8,  9, 10])]"
      ]
     },
     "execution_count": 35,
     "metadata": {},
     "output_type": "execute_result"
    }
   ],
   "source": [
    "#question 6\n",
    "a=np.array([1,2,3,4,5,6,7,8,9,10])\n",
    "b=np.array_split(a,2)\n",
    "b"
   ]
  },
  {
   "cell_type": "code",
   "execution_count": 39,
   "id": "72c95a4e-1aa8-4a02-880b-280df88dda27",
   "metadata": {},
   "outputs": [
    {
     "data": {
      "text/plain": [
       "array([4, 5, 6])"
      ]
     },
     "execution_count": 39,
     "metadata": {},
     "output_type": "execute_result"
    }
   ],
   "source": [
    "#Question 7\n",
    "a=np.array([[1,2,3],[4,5,6],[7,8,9]])\n",
    "b=a[1]\n",
    "b"
   ]
  },
  {
   "cell_type": "code",
   "execution_count": 109,
   "id": "4422a3f9-aa79-4d81-8d6d-eca140b798a6",
   "metadata": {},
   "outputs": [
    {
     "ename": "IndexError",
     "evalue": "index 2 is out of bounds for axis 1 with size 1",
     "output_type": "error",
     "traceback": [
      "\u001b[1;31m---------------------------------------------------------------------------\u001b[0m",
      "\u001b[1;31mIndexError\u001b[0m                                Traceback (most recent call last)",
      "Cell \u001b[1;32mIn[109], line 3\u001b[0m\n\u001b[0;32m      1\u001b[0m \u001b[38;5;66;03m#Question 8\u001b[39;00m\n\u001b[0;32m      2\u001b[0m a\u001b[38;5;241m=\u001b[39mnp\u001b[38;5;241m.\u001b[39marray([\u001b[38;5;241m10\u001b[39m,\u001b[38;5;241m20\u001b[39m,\u001b[38;5;241m30\u001b[39m,\u001b[38;5;241m40\u001b[39m,\u001b[38;5;241m50\u001b[39m],ndmin\u001b[38;5;241m=\u001b[39m\u001b[38;5;241m3\u001b[39m)\n\u001b[1;32m----> 3\u001b[0m \u001b[38;5;28mprint\u001b[39m(a[\u001b[38;5;241m0\u001b[39m,\u001b[38;5;241m2\u001b[39m,\u001b[38;5;241m4\u001b[39m])\n",
      "\u001b[1;31mIndexError\u001b[0m: index 2 is out of bounds for axis 1 with size 1"
     ]
    }
   ],
   "source": [
    "#Question 8\n",
    "a=np.array([10,20,30,40,50],ndmin=3)\n",
    "print(a[0,2,4])\n"
   ]
  },
  {
   "cell_type": "code",
   "execution_count": 53,
   "id": "45ffa81f-0c52-46d7-ab59-c5d4aa2b586c",
   "metadata": {},
   "outputs": [
    {
     "name": "stdout",
     "output_type": "stream",
     "text": [
      "3.0\n",
      "15\n",
      "1.4142135623730951\n"
     ]
    }
   ],
   "source": [
    "#Question 9\n",
    "a=np.array([1,2,3,4,5])\n",
    "print(np.mean(a))\n",
    "print(np.sum(a))\n",
    "print(np.std(a))"
   ]
  },
  {
   "cell_type": "code",
   "execution_count": 57,
   "id": "d3199459-048d-44d5-a009-86273f6f68a0",
   "metadata": {},
   "outputs": [
    {
     "name": "stdout",
     "output_type": "stream",
     "text": [
      "1\n",
      "9\n"
     ]
    }
   ],
   "source": [
    "#Question 10\n",
    "a=np.array([[1,2,3],[4,5,6],[7,8,9]])\n",
    "print (np.min(a))\n",
    "print(np.max(a))"
   ]
  },
  {
   "cell_type": "code",
   "execution_count": 77,
   "id": "9eccd01f-bc7a-4d05-8264-4d166f5e57b3",
   "metadata": {},
   "outputs": [
    {
     "name": "stdout",
     "output_type": "stream",
     "text": [
      "[[3 1 4 2 6 5]\n",
      " [1 5 9 7 8 0]]\n"
     ]
    }
   ],
   "source": [
    "#Question 11\n",
    "a=np.array([[3,1,4],[1,5,9]])\n",
    "b=np.array([[2,6,5],[7,8,0]])\n",
    "c=np.sort(a)\n",
    "d=np.sort(b)\n",
    "print(np.hstack((a,b)))"
   ]
  },
  {
   "cell_type": "code",
   "execution_count": 85,
   "id": "0959dfed-75c2-46b0-987d-9d073f07cc15",
   "metadata": {},
   "outputs": [
    {
     "name": "stdout",
     "output_type": "stream",
     "text": [
      "(array([0, 1], dtype=int64),)\n",
      "(array([7, 8, 9], dtype=int64),)\n"
     ]
    }
   ],
   "source": [
    "#Question 12\n",
    "a=np.array([1,2,3,4,5,6,7,8,9,10])\n",
    "print(np.where(a<3))\n",
    "print(np.where(a>7))"
   ]
  },
  {
   "cell_type": "code",
   "execution_count": 91,
   "id": "2c140dc0-d7ec-47c1-88a4-547e6fa64467",
   "metadata": {},
   "outputs": [
    {
     "name": "stdout",
     "output_type": "stream",
     "text": [
      "(array([0, 0, 0, 1], dtype=int64), array([1, 2, 6, 6], dtype=int64))\n"
     ]
    },
    {
     "data": {
      "text/plain": [
       "array([30, 32, 31, 29, 28, 30, 31, 25, 26, 27, 28, 29, 30, 31])"
      ]
     },
     "execution_count": 91,
     "metadata": {},
     "output_type": "execute_result"
    }
   ],
   "source": [
    "#question 13\n",
    "a=np.array([[30,32,31,29,28,30,31],[25,26,27,28,29,30,31]])\n",
    "print(np.where(a>30))\n",
    "b=np.hstack((a))\n",
    "b\n"
   ]
  },
  {
   "cell_type": "code",
   "execution_count": null,
   "id": "67afde0b-a919-4f0b-8646-1460e1237a2d",
   "metadata": {},
   "outputs": [],
   "source": [
    "#Question 14\n",
    "a=np.array([[100,101,102,103,104],[200,201,202,203,204]])"
   ]
  },
  {
   "cell_type": "code",
   "execution_count": 97,
   "id": "607ba085-3599-43ef-80ca-f93bc5342a29",
   "metadata": {},
   "outputs": [
    {
     "data": {
      "text/plain": [
       "array([ 3,  6,  9, 12, 15, 18, 21, 24, 27])"
      ]
     },
     "execution_count": 97,
     "metadata": {},
     "output_type": "execute_result"
    }
   ],
   "source": [
    "#Question 15\n",
    "a=np.arange(1,30)\n",
    "arr=[]\n",
    "for i in a:\n",
    "    if i%3==0:\n",
    "        arr.append(True)\n",
    "    else:\n",
    "        arr.append (False)\n",
    "array=a[arr]\n",
    "array"
   ]
  },
  {
   "cell_type": "code",
   "execution_count": null,
   "id": "6223d9e0-c764-4748-98f3-400808a98ac5",
   "metadata": {},
   "outputs": [],
   "source": []
  }
 ],
 "metadata": {
  "kernelspec": {
   "display_name": "Python 3 (ipykernel)",
   "language": "python",
   "name": "python3"
  },
  "language_info": {
   "codemirror_mode": {
    "name": "ipython",
    "version": 3
   },
   "file_extension": ".py",
   "mimetype": "text/x-python",
   "name": "python",
   "nbconvert_exporter": "python",
   "pygments_lexer": "ipython3",
   "version": "3.12.4"
  }
 },
 "nbformat": 4,
 "nbformat_minor": 5
}
